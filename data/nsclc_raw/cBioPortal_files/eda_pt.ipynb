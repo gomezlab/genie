{
 "cells": [
  {
   "cell_type": "code",
   "execution_count": 1,
   "metadata": {},
   "outputs": [],
   "source": [
    "import pandas as pd"
   ]
  },
  {
   "cell_type": "code",
   "execution_count": 2,
   "metadata": {},
   "outputs": [
    {
     "data": {
      "text/html": [
       "<div>\n",
       "<style scoped>\n",
       "    .dataframe tbody tr th:only-of-type {\n",
       "        vertical-align: middle;\n",
       "    }\n",
       "\n",
       "    .dataframe tbody tr th {\n",
       "        vertical-align: top;\n",
       "    }\n",
       "\n",
       "    .dataframe thead th {\n",
       "        text-align: right;\n",
       "    }\n",
       "</style>\n",
       "<table border=\"1\" class=\"dataframe\">\n",
       "  <thead>\n",
       "    <tr style=\"text-align: right;\">\n",
       "      <th></th>\n",
       "      <th>PATIENT_ID</th>\n",
       "      <th>START_DATE</th>\n",
       "      <th>STOP_DATE</th>\n",
       "      <th>EVENT_TYPE</th>\n",
       "      <th>TREATMENT_TYPE</th>\n",
       "      <th>AGENT</th>\n",
       "      <th>REGIMEN</th>\n",
       "      <th>REGIMEN_NUMBER</th>\n",
       "      <th>DURATION_DX_START_STOP</th>\n",
       "      <th>CA_SEQ</th>\n",
       "      <th>DRUGS_CT_YN</th>\n",
       "      <th>DRUGS_DC_YN</th>\n",
       "      <th>REDCAP_CA_INDEX</th>\n",
       "    </tr>\n",
       "  </thead>\n",
       "  <tbody>\n",
       "    <tr>\n",
       "      <th>0</th>\n",
       "      <td>GENIE-DFCI-000013</td>\n",
       "      <td>19</td>\n",
       "      <td>119.0</td>\n",
       "      <td>Treatment</td>\n",
       "      <td>Systemic Therapy</td>\n",
       "      <td>Carboplatin</td>\n",
       "      <td>Carboplatin, Pemetrexed Disodium</td>\n",
       "      <td>1</td>\n",
       "      <td>101.0</td>\n",
       "      <td>3</td>\n",
       "      <td>No</td>\n",
       "      <td>Yes</td>\n",
       "      <td>Yes</td>\n",
       "    </tr>\n",
       "    <tr>\n",
       "      <th>1</th>\n",
       "      <td>GENIE-DFCI-000013</td>\n",
       "      <td>19</td>\n",
       "      <td>119.0</td>\n",
       "      <td>Treatment</td>\n",
       "      <td>Systemic Therapy</td>\n",
       "      <td>Pemetrexed Disodium</td>\n",
       "      <td>Carboplatin, Pemetrexed Disodium</td>\n",
       "      <td>1</td>\n",
       "      <td>101.0</td>\n",
       "      <td>3</td>\n",
       "      <td>No</td>\n",
       "      <td>Yes</td>\n",
       "      <td>Yes</td>\n",
       "    </tr>\n",
       "    <tr>\n",
       "      <th>2</th>\n",
       "      <td>GENIE-DFCI-000136</td>\n",
       "      <td>39</td>\n",
       "      <td>144.0</td>\n",
       "      <td>Treatment</td>\n",
       "      <td>Systemic Therapy</td>\n",
       "      <td>Carboplatin</td>\n",
       "      <td>Carboplatin, Pemetrexed Disodium</td>\n",
       "      <td>1</td>\n",
       "      <td>106.0</td>\n",
       "      <td>0</td>\n",
       "      <td>No</td>\n",
       "      <td>Yes</td>\n",
       "      <td>Yes</td>\n",
       "    </tr>\n",
       "    <tr>\n",
       "      <th>3</th>\n",
       "      <td>GENIE-DFCI-000136</td>\n",
       "      <td>39</td>\n",
       "      <td>207.0</td>\n",
       "      <td>Treatment</td>\n",
       "      <td>Systemic Therapy</td>\n",
       "      <td>Pemetrexed Disodium</td>\n",
       "      <td>Carboplatin, Pemetrexed Disodium</td>\n",
       "      <td>1</td>\n",
       "      <td>169.0</td>\n",
       "      <td>0</td>\n",
       "      <td>No</td>\n",
       "      <td>Yes</td>\n",
       "      <td>Yes</td>\n",
       "    </tr>\n",
       "    <tr>\n",
       "      <th>4</th>\n",
       "      <td>GENIE-DFCI-000142</td>\n",
       "      <td>38</td>\n",
       "      <td>66.0</td>\n",
       "      <td>Treatment</td>\n",
       "      <td>Systemic Therapy</td>\n",
       "      <td>Cisplatin</td>\n",
       "      <td>Cisplatin, Etoposide</td>\n",
       "      <td>1</td>\n",
       "      <td>29.0</td>\n",
       "      <td>2</td>\n",
       "      <td>No</td>\n",
       "      <td>Yes</td>\n",
       "      <td>Yes</td>\n",
       "    </tr>\n",
       "  </tbody>\n",
       "</table>\n",
       "</div>"
      ],
      "text/plain": [
       "          PATIENT_ID  START_DATE  STOP_DATE EVENT_TYPE    TREATMENT_TYPE   \n",
       "0  GENIE-DFCI-000013          19      119.0  Treatment  Systemic Therapy  \\\n",
       "1  GENIE-DFCI-000013          19      119.0  Treatment  Systemic Therapy   \n",
       "2  GENIE-DFCI-000136          39      144.0  Treatment  Systemic Therapy   \n",
       "3  GENIE-DFCI-000136          39      207.0  Treatment  Systemic Therapy   \n",
       "4  GENIE-DFCI-000142          38       66.0  Treatment  Systemic Therapy   \n",
       "\n",
       "                 AGENT                           REGIMEN  REGIMEN_NUMBER   \n",
       "0          Carboplatin  Carboplatin, Pemetrexed Disodium               1  \\\n",
       "1  Pemetrexed Disodium  Carboplatin, Pemetrexed Disodium               1   \n",
       "2          Carboplatin  Carboplatin, Pemetrexed Disodium               1   \n",
       "3  Pemetrexed Disodium  Carboplatin, Pemetrexed Disodium               1   \n",
       "4            Cisplatin              Cisplatin, Etoposide               1   \n",
       "\n",
       "   DURATION_DX_START_STOP  CA_SEQ DRUGS_CT_YN DRUGS_DC_YN REDCAP_CA_INDEX  \n",
       "0                   101.0       3          No         Yes             Yes  \n",
       "1                   101.0       3          No         Yes             Yes  \n",
       "2                   106.0       0          No         Yes             Yes  \n",
       "3                   169.0       0          No         Yes             Yes  \n",
       "4                    29.0       2          No         Yes             Yes  "
      ]
     },
     "execution_count": 2,
     "metadata": {},
     "output_type": "execute_result"
    }
   ],
   "source": [
    "data = pd.read_csv('data_timeline_treatment.txt', sep='\\t')\n",
    "data.head()"
   ]
  },
  {
   "cell_type": "code",
   "execution_count": 3,
   "metadata": {},
   "outputs": [
    {
     "data": {
      "text/plain": [
       "REGIMEN\n",
       "Carboplatin, Pemetrexed Disodium                 810\n",
       "Cisplatin, Pemetrexed Disodium                   376\n",
       "Bevacizumab, Carboplatin, Pemetrexed Disodium    372\n",
       "Carboplatin, Paclitaxel                          364\n",
       "Nivolumab                                        266\n",
       "                                                ... \n",
       "Olaparib                                           1\n",
       "Temozolomide                                       1\n",
       "Rituximab                                          1\n",
       "Rociletinib                                        1\n",
       "Ensartinib                                         1\n",
       "Name: count, Length: 203, dtype: int64"
      ]
     },
     "execution_count": 3,
     "metadata": {},
     "output_type": "execute_result"
    }
   ],
   "source": [
    "data['REGIMEN'].value_counts()"
   ]
  },
  {
   "cell_type": "code",
   "execution_count": 4,
   "metadata": {},
   "outputs": [
    {
     "data": {
      "text/plain": [
       "1283"
      ]
     },
     "execution_count": 4,
     "metadata": {},
     "output_type": "execute_result"
    }
   ],
   "source": [
    "data['PATIENT_ID'].nunique()"
   ]
  },
  {
   "cell_type": "code",
   "execution_count": 7,
   "metadata": {},
   "outputs": [
    {
     "data": {
      "text/plain": [
       "(388, 13)"
      ]
     },
     "execution_count": 7,
     "metadata": {},
     "output_type": "execute_result"
    }
   ],
   "source": [
    "data.loc[data['REGIMEN'].str.contains('ib', case=False, na=False)].drop_duplicates(subset=['PATIENT_ID']).shape"
   ]
  },
  {
   "cell_type": "code",
   "execution_count": 8,
   "metadata": {},
   "outputs": [
    {
     "data": {
      "text/plain": [
       "REGIMEN\n",
       "Erlotinib Hydrochloride    214\n",
       "Osimertinib                156\n",
       "Crizotinib                  76\n",
       "Afatinib Dimaleate          60\n",
       "Alectinib                   37\n",
       "                          ... \n",
       "Rociletinib                  1\n",
       "Sunitinib Malate             1\n",
       "Olaparib                     1\n",
       "Neratinib                    1\n",
       "Ensartinib                   1\n",
       "Name: count, Length: 93, dtype: int64"
      ]
     },
     "execution_count": 8,
     "metadata": {},
     "output_type": "execute_result"
    }
   ],
   "source": [
    "data.loc[data['REGIMEN'].str.contains('ib', case=False, na=False), 'REGIMEN'].value_counts()"
   ]
  },
  {
   "cell_type": "code",
   "execution_count": null,
   "metadata": {},
   "outputs": [],
   "source": []
  }
 ],
 "metadata": {
  "kernelspec": {
   "display_name": "Python 3",
   "language": "python",
   "name": "python3"
  },
  "language_info": {
   "codemirror_mode": {
    "name": "ipython",
    "version": 3
   },
   "file_extension": ".py",
   "mimetype": "text/x-python",
   "name": "python",
   "nbconvert_exporter": "python",
   "pygments_lexer": "ipython3",
   "version": "3.10.6"
  },
  "orig_nbformat": 4
 },
 "nbformat": 4,
 "nbformat_minor": 2
}
