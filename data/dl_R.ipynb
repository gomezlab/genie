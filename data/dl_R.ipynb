{
 "cells": [
  {
   "cell_type": "code",
   "execution_count": 1,
   "metadata": {
    "vscode": {
     "languageId": "r"
    }
   },
   "outputs": [
    {
     "name": "stderr",
     "output_type": "stream",
     "text": [
      "Installing package into ‘/home/kchen/R/x86_64-pc-linux-gnu-library/4.3’\n",
      "(as ‘lib’ is unspecified)\n",
      "\n",
      "also installing the dependencies ‘d3r’, ‘sunburstR’\n",
      "\n",
      "\n"
     ]
    }
   ],
   "source": [
    "install.packages('genieBPC')"
   ]
  },
  {
   "cell_type": "code",
   "execution_count": 3,
   "metadata": {
    "vscode": {
     "languageId": "r"
    }
   },
   "outputs": [],
   "source": [
    "library(genieBPC)"
   ]
  },
  {
   "cell_type": "code",
   "execution_count": 4,
   "metadata": {
    "vscode": {
     "languageId": "r"
    }
   },
   "outputs": [
    {
     "name": "stderr",
     "output_type": "stream",
     "text": [
      "\u001b[32m✔\u001b[39m You are now connected to 'Synapse' as\n",
      "\u001b[32m\u001b[32mkchen315\u001b[32m\u001b[39m for this R session!\n",
      "\n"
     ]
    }
   ],
   "source": [
    "set_synapse_credentials(username = \"kchen315\", password = \"emrKz#H*7$A#dj\")\n"
   ]
  },
  {
   "cell_type": "code",
   "execution_count": 6,
   "metadata": {
    "vscode": {
     "languageId": "r"
    }
   },
   "outputs": [
    {
     "data": {
      "text/html": [
       "<table class=\"dataframe\">\n",
       "<caption>A tibble: 8 × 4</caption>\n",
       "<thead>\n",
       "\t<tr><th scope=col>cohort</th><th scope=col>version</th><th scope=col>release_date</th><th scope=col>versions_returned</th></tr>\n",
       "\t<tr><th scope=col>&lt;chr&gt;</th><th scope=col>&lt;chr&gt;</th><th scope=col>&lt;chr&gt;</th><th scope=col>&lt;chr&gt;</th></tr>\n",
       "</thead>\n",
       "<tbody>\n",
       "\t<tr><td>BLADDER </td><td>v1.1-consortium</td><td>2022-11</td><td>Most Recent Versions</td></tr>\n",
       "\t<tr><td>BrCa    </td><td>v1.2-consortium</td><td>2022-10</td><td>Most Recent Versions</td></tr>\n",
       "\t<tr><td>CRC     </td><td>v1.2-consortium</td><td>2021-08</td><td>Most Recent Versions</td></tr>\n",
       "\t<tr><td>CRC     </td><td>v2.0-public    </td><td>2022-10</td><td>Most Recent Versions</td></tr>\n",
       "\t<tr><td>NSCLC   </td><td>v2.1-consortium</td><td>2021-08</td><td>Most Recent Versions</td></tr>\n",
       "\t<tr><td>NSCLC   </td><td>v2.0-public    </td><td>2022-05</td><td>Most Recent Versions</td></tr>\n",
       "\t<tr><td>PANC    </td><td>v1.2-consortium</td><td>2023-01</td><td>Most Recent Versions</td></tr>\n",
       "\t<tr><td>Prostate</td><td>v1.2-consortium</td><td>2023-01</td><td>Most Recent Versions</td></tr>\n",
       "</tbody>\n",
       "</table>\n"
      ],
      "text/latex": [
       "A tibble: 8 × 4\n",
       "\\begin{tabular}{llll}\n",
       " cohort & version & release\\_date & versions\\_returned\\\\\n",
       " <chr> & <chr> & <chr> & <chr>\\\\\n",
       "\\hline\n",
       "\t BLADDER  & v1.1-consortium & 2022-11 & Most Recent Versions\\\\\n",
       "\t BrCa     & v1.2-consortium & 2022-10 & Most Recent Versions\\\\\n",
       "\t CRC      & v1.2-consortium & 2021-08 & Most Recent Versions\\\\\n",
       "\t CRC      & v2.0-public     & 2022-10 & Most Recent Versions\\\\\n",
       "\t NSCLC    & v2.1-consortium & 2021-08 & Most Recent Versions\\\\\n",
       "\t NSCLC    & v2.0-public     & 2022-05 & Most Recent Versions\\\\\n",
       "\t PANC     & v1.2-consortium & 2023-01 & Most Recent Versions\\\\\n",
       "\t Prostate & v1.2-consortium & 2023-01 & Most Recent Versions\\\\\n",
       "\\end{tabular}\n"
      ],
      "text/markdown": [
       "\n",
       "A tibble: 8 × 4\n",
       "\n",
       "| cohort &lt;chr&gt; | version &lt;chr&gt; | release_date &lt;chr&gt; | versions_returned &lt;chr&gt; |\n",
       "|---|---|---|---|\n",
       "| BLADDER  | v1.1-consortium | 2022-11 | Most Recent Versions |\n",
       "| BrCa     | v1.2-consortium | 2022-10 | Most Recent Versions |\n",
       "| CRC      | v1.2-consortium | 2021-08 | Most Recent Versions |\n",
       "| CRC      | v2.0-public     | 2022-10 | Most Recent Versions |\n",
       "| NSCLC    | v2.1-consortium | 2021-08 | Most Recent Versions |\n",
       "| NSCLC    | v2.0-public     | 2022-05 | Most Recent Versions |\n",
       "| PANC     | v1.2-consortium | 2023-01 | Most Recent Versions |\n",
       "| Prostate | v1.2-consortium | 2023-01 | Most Recent Versions |\n",
       "\n"
      ],
      "text/plain": [
       "  cohort   version         release_date versions_returned   \n",
       "1 BLADDER  v1.1-consortium 2022-11      Most Recent Versions\n",
       "2 BrCa     v1.2-consortium 2022-10      Most Recent Versions\n",
       "3 CRC      v1.2-consortium 2021-08      Most Recent Versions\n",
       "4 CRC      v2.0-public     2022-10      Most Recent Versions\n",
       "5 NSCLC    v2.1-consortium 2021-08      Most Recent Versions\n",
       "6 NSCLC    v2.0-public     2022-05      Most Recent Versions\n",
       "7 PANC     v1.2-consortium 2023-01      Most Recent Versions\n",
       "8 Prostate v1.2-consortium 2023-01      Most Recent Versions"
      ]
     },
     "metadata": {},
     "output_type": "display_data"
    }
   ],
   "source": [
    "synapse_version(most_recent=TRUE)"
   ]
  },
  {
   "cell_type": "code",
   "execution_count": 7,
   "metadata": {
    "vscode": {
     "languageId": "r"
    }
   },
   "outputs": [
    {
     "ename": "ERROR",
     "evalue": "Error in parse(text = x, srcfile = src): <text>:1:44: unexpected input\n1: nsclc_cohort <- pull_data_synapse(cohort = ‘\n                                               ^\n",
     "output_type": "error",
     "traceback": [
      "Error in parse(text = x, srcfile = src): <text>:1:44: unexpected input\n1: nsclc_cohort <- pull_data_synapse(cohort = ‘\n                                               ^\nTraceback:\n"
     ]
    }
   ],
   "source": [
    "nsclc_cohort <- pull_data_synapse(cohort = ‘CRC’, version = ‘v2.0-public’)\n"
   ]
  },
  {
   "cell_type": "code",
   "execution_count": 9,
   "metadata": {
    "vscode": {
     "languageId": "r"
    }
   },
   "outputs": [
    {
     "ename": "ERROR",
     "evalue": "\u001b[1m\u001b[33mError\u001b[39m in `pull_data_synapse()`:\u001b[22m\n\u001b[1m\u001b[22m\u001b[33m!\u001b[39m `version` must be one of the following: v1.1-consortium,\n  v1.2-consortium, v2.1-consortium, and v2.0-public\n",
     "output_type": "error",
     "traceback": [
      "\u001b[1m\u001b[33mError\u001b[39m in `pull_data_synapse()`:\u001b[22m\n\u001b[1m\u001b[22m\u001b[33m!\u001b[39m `version` must be one of the following: v1.1-consortium,\n  v1.2-consortium, v2.1-consortium, and v2.0-public\nTraceback:\n",
      "1. pull_data_synapse(cohort = \"CRC\", version = \"2.0-public\")",
      "2. cli::cli_abort(\"{.code version} must be one of the following:\\n                       {unique(synapse_tables$version)}\")",
      "3. rlang::abort(message, ..., call = call, use_cli_format = TRUE, \n .     .frame = .frame)",
      "4. signal_abort(cnd, .file)"
     ]
    }
   ],
   "source": [
    "crc_cohort <- pull_data_synapse(cohort='CRC', version = 'v2.0-public')"
   ]
  },
  {
   "cell_type": "code",
   "execution_count": null,
   "metadata": {
    "vscode": {
     "languageId": "r"
    }
   },
   "outputs": [],
   "source": []
  }
 ],
 "metadata": {
  "kernelspec": {
   "display_name": "R",
   "language": "R",
   "name": "ir"
  },
  "language_info": {
   "codemirror_mode": "r",
   "file_extension": ".r",
   "mimetype": "text/x-r-source",
   "name": "R",
   "pygments_lexer": "r",
   "version": "4.3.0"
  },
  "orig_nbformat": 4
 },
 "nbformat": 4,
 "nbformat_minor": 2
}
