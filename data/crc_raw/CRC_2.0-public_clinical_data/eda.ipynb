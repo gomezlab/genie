{
 "cells": [
  {
   "cell_type": "code",
   "execution_count": 1,
   "metadata": {},
   "outputs": [],
   "source": [
    "import pandas as pd"
   ]
  },
  {
   "cell_type": "code",
   "execution_count": 2,
   "metadata": {},
   "outputs": [
    {
     "data": {
      "text/html": [
       "<div>\n",
       "<style scoped>\n",
       "    .dataframe tbody tr th:only-of-type {\n",
       "        vertical-align: middle;\n",
       "    }\n",
       "\n",
       "    .dataframe tbody tr th {\n",
       "        vertical-align: top;\n",
       "    }\n",
       "\n",
       "    .dataframe thead th {\n",
       "        text-align: right;\n",
       "    }\n",
       "</style>\n",
       "<table border=\"1\" class=\"dataframe\">\n",
       "  <thead>\n",
       "    <tr style=\"text-align: right;\">\n",
       "      <th></th>\n",
       "      <th>cohort</th>\n",
       "      <th>record_id</th>\n",
       "      <th>institution</th>\n",
       "      <th>ca_seq</th>\n",
       "      <th>regimen_number</th>\n",
       "      <th>regimen_number_within_cancer</th>\n",
       "      <th>redcap_ca_index</th>\n",
       "      <th>drugs_num</th>\n",
       "      <th>drugs_inst</th>\n",
       "      <th>drugs_firstinst</th>\n",
       "      <th>...</th>\n",
       "      <th>tt_pfs_i_and_m_g_yrs</th>\n",
       "      <th>ttnt_any_ca_status</th>\n",
       "      <th>ttnt_any_ca_days</th>\n",
       "      <th>ttnt_any_ca_mos</th>\n",
       "      <th>ttnt_any_ca_yrs</th>\n",
       "      <th>ttnt_ca_seq_status</th>\n",
       "      <th>ttnt_ca_seq_days</th>\n",
       "      <th>ttnt_ca_seq_mos</th>\n",
       "      <th>ttnt_ca_seq_yrs</th>\n",
       "      <th>release_version</th>\n",
       "    </tr>\n",
       "  </thead>\n",
       "  <tbody>\n",
       "    <tr>\n",
       "      <th>0</th>\n",
       "      <td>CRC</td>\n",
       "      <td>GENIE-DFCI-000048</td>\n",
       "      <td>DFCI</td>\n",
       "      <td>0</td>\n",
       "      <td>1</td>\n",
       "      <td>1</td>\n",
       "      <td>Yes</td>\n",
       "      <td>2</td>\n",
       "      <td>At the internal/native institution only</td>\n",
       "      <td>NaN</td>\n",
       "      <td>...</td>\n",
       "      <td>NaN</td>\n",
       "      <td>0</td>\n",
       "      <td>273</td>\n",
       "      <td>8.980263</td>\n",
       "      <td>0.747433</td>\n",
       "      <td>0</td>\n",
       "      <td>273</td>\n",
       "      <td>8.980263</td>\n",
       "      <td>0.747433</td>\n",
       "      <td>2.0-public</td>\n",
       "    </tr>\n",
       "    <tr>\n",
       "      <th>1</th>\n",
       "      <td>CRC</td>\n",
       "      <td>GENIE-DFCI-000147</td>\n",
       "      <td>DFCI</td>\n",
       "      <td>0</td>\n",
       "      <td>1</td>\n",
       "      <td>1</td>\n",
       "      <td>Yes</td>\n",
       "      <td>1</td>\n",
       "      <td>At external institution only</td>\n",
       "      <td>NaN</td>\n",
       "      <td>...</td>\n",
       "      <td>NaN</td>\n",
       "      <td>1</td>\n",
       "      <td>181</td>\n",
       "      <td>5.953947</td>\n",
       "      <td>0.495551</td>\n",
       "      <td>1</td>\n",
       "      <td>181</td>\n",
       "      <td>5.953947</td>\n",
       "      <td>0.495551</td>\n",
       "      <td>2.0-public</td>\n",
       "    </tr>\n",
       "    <tr>\n",
       "      <th>2</th>\n",
       "      <td>CRC</td>\n",
       "      <td>GENIE-DFCI-000147</td>\n",
       "      <td>DFCI</td>\n",
       "      <td>0</td>\n",
       "      <td>2</td>\n",
       "      <td>2</td>\n",
       "      <td>Yes</td>\n",
       "      <td>2</td>\n",
       "      <td>At external institution only</td>\n",
       "      <td>NaN</td>\n",
       "      <td>...</td>\n",
       "      <td>NaN</td>\n",
       "      <td>1</td>\n",
       "      <td>275</td>\n",
       "      <td>9.046053</td>\n",
       "      <td>0.752909</td>\n",
       "      <td>1</td>\n",
       "      <td>275</td>\n",
       "      <td>9.046053</td>\n",
       "      <td>0.752909</td>\n",
       "      <td>2.0-public</td>\n",
       "    </tr>\n",
       "    <tr>\n",
       "      <th>3</th>\n",
       "      <td>CRC</td>\n",
       "      <td>GENIE-DFCI-000147</td>\n",
       "      <td>DFCI</td>\n",
       "      <td>0</td>\n",
       "      <td>3</td>\n",
       "      <td>3</td>\n",
       "      <td>Yes</td>\n",
       "      <td>4</td>\n",
       "      <td>At external institution only</td>\n",
       "      <td>NaN</td>\n",
       "      <td>...</td>\n",
       "      <td>0.594114</td>\n",
       "      <td>1</td>\n",
       "      <td>473</td>\n",
       "      <td>15.559211</td>\n",
       "      <td>1.295003</td>\n",
       "      <td>1</td>\n",
       "      <td>473</td>\n",
       "      <td>15.559211</td>\n",
       "      <td>1.295003</td>\n",
       "      <td>2.0-public</td>\n",
       "    </tr>\n",
       "    <tr>\n",
       "      <th>4</th>\n",
       "      <td>CRC</td>\n",
       "      <td>GENIE-DFCI-000147</td>\n",
       "      <td>DFCI</td>\n",
       "      <td>0</td>\n",
       "      <td>4</td>\n",
       "      <td>4</td>\n",
       "      <td>Yes</td>\n",
       "      <td>1</td>\n",
       "      <td>At the internal/native institution only</td>\n",
       "      <td>NaN</td>\n",
       "      <td>...</td>\n",
       "      <td>0.366872</td>\n",
       "      <td>1</td>\n",
       "      <td>282</td>\n",
       "      <td>9.276316</td>\n",
       "      <td>0.772074</td>\n",
       "      <td>1</td>\n",
       "      <td>282</td>\n",
       "      <td>9.276316</td>\n",
       "      <td>0.772074</td>\n",
       "      <td>2.0-public</td>\n",
       "    </tr>\n",
       "  </tbody>\n",
       "</table>\n",
       "<p>5 rows × 103 columns</p>\n",
       "</div>"
      ],
      "text/plain": [
       "  cohort          record_id institution  ca_seq  regimen_number   \n",
       "0    CRC  GENIE-DFCI-000048        DFCI       0               1  \\\n",
       "1    CRC  GENIE-DFCI-000147        DFCI       0               1   \n",
       "2    CRC  GENIE-DFCI-000147        DFCI       0               2   \n",
       "3    CRC  GENIE-DFCI-000147        DFCI       0               3   \n",
       "4    CRC  GENIE-DFCI-000147        DFCI       0               4   \n",
       "\n",
       "   regimen_number_within_cancer redcap_ca_index  drugs_num   \n",
       "0                             1             Yes          2  \\\n",
       "1                             1             Yes          1   \n",
       "2                             2             Yes          2   \n",
       "3                             3             Yes          4   \n",
       "4                             4             Yes          1   \n",
       "\n",
       "                                drugs_inst drugs_firstinst  ...   \n",
       "0  At the internal/native institution only             NaN  ...  \\\n",
       "1             At external institution only             NaN  ...   \n",
       "2             At external institution only             NaN  ...   \n",
       "3             At external institution only             NaN  ...   \n",
       "4  At the internal/native institution only             NaN  ...   \n",
       "\n",
       "  tt_pfs_i_and_m_g_yrs ttnt_any_ca_status ttnt_any_ca_days ttnt_any_ca_mos   \n",
       "0                  NaN                  0              273        8.980263  \\\n",
       "1                  NaN                  1              181        5.953947   \n",
       "2                  NaN                  1              275        9.046053   \n",
       "3             0.594114                  1              473       15.559211   \n",
       "4             0.366872                  1              282        9.276316   \n",
       "\n",
       "  ttnt_any_ca_yrs ttnt_ca_seq_status ttnt_ca_seq_days ttnt_ca_seq_mos   \n",
       "0        0.747433                  0              273        8.980263  \\\n",
       "1        0.495551                  1              181        5.953947   \n",
       "2        0.752909                  1              275        9.046053   \n",
       "3        1.295003                  1              473       15.559211   \n",
       "4        0.772074                  1              282        9.276316   \n",
       "\n",
       "  ttnt_ca_seq_yrs  release_version  \n",
       "0        0.747433       2.0-public  \n",
       "1        0.495551       2.0-public  \n",
       "2        0.752909       2.0-public  \n",
       "3        1.295003       2.0-public  \n",
       "4        0.772074       2.0-public  \n",
       "\n",
       "[5 rows x 103 columns]"
      ]
     },
     "execution_count": 2,
     "metadata": {},
     "output_type": "execute_result"
    }
   ],
   "source": [
    "data = pd.read_csv('regimen_cancer_level_dataset.csv')\n",
    "data.head()"
   ]
  },
  {
   "cell_type": "code",
   "execution_count": 8,
   "metadata": {},
   "outputs": [
    {
     "data": {
      "text/plain": [
       "drugs_combined\n",
       "Fluorouracil(5FU,5Fluorouracil,5Fluracil,AccuSite,Adrucil,Carac,Fluouracil,Flurablastin,Fluracedyl,Fluracil,Fluril,Fluroblastin,Ribofluor,Ro29757),Leucovorin Calcium(Calfolex,Calinat,Cehafolin,Citofolin,Citrec,Citrovorum Factor,Cromatonbic Folinico,Dalisol,Disintox,Divical,Ecofol,Emovis,FOLIcell,Flynoken A,Folaren,Folaxin,Foliben,Folidan,Folidar,Folinac,Folinate Calcium,Folinoral,Folinvit,Foliplus,Folix,Imo,Lederfolat,Lederfolin,Leucosar,Rescufolin,Rescuvolin,Tonofolin,Wellcovorin),Oxaliplatin(1OHP,Ai Heng,DACPLAT,Dacotin,ELOXATIN,Eloxatine,JM83)                                                                                                                                                                                                                                                                               615\n",
       "Capecitabine(Ro091978 000,Xeloda)                                                                                                                                                                                                                                                                                                                                                                                                                                                                                                                                                                                                                                                                                                                                                                                                                      324\n",
       "Fluorouracil(5FU,5Fluorouracil,5Fluracil,AccuSite,Adrucil,Carac,Fluouracil,Flurablastin,Fluracedyl,Fluracil,Fluril,Fluroblastin,Ribofluor,Ro29757),Leucovorin Calcium(Calfolex,Calinat,Cehafolin,Citofolin,Citrec,Citrovorum Factor,Cromatonbic Folinico,Dalisol,Disintox,Divical,Ecofol,Emovis,FOLIcell,Flynoken A,Folaren,Folaxin,Foliben,Folidan,Folidar,Folinac,Folinate Calcium,Folinoral,Folinvit,Foliplus,Folix,Imo,Lederfolat,Lederfolin,Leucosar,Rescufolin,Rescuvolin,Tonofolin,Wellcovorin),Irinotecan Hydrochloride(CPT11,Campto,Camptosar,U101440E),Bevacizumab(AntiVEGF rhuMAb, BEVZ92,Bevacizumab-awwb,Bevacizumab BI 695502,Bevacizumab CBT 124,Bevacizumab FKB238,Bevacizumab HD204,Bevacizumab HLX04,Bevacizumab MIL60,Bevacizumab QL 1101,HD204,Avastin,Mvasi)                                                                      236\n",
       "Floxuridine(FDUR,FUDR,WR138720)                                                                                                                                                                                                                                                                                                                                                                                                                                                                                                                                                                                                                                                                                                                                                                                                                        226\n",
       "Fluorouracil(5FU,5Fluorouracil,5Fluracil,AccuSite,Adrucil,Carac,Fluouracil,Flurablastin,Fluracedyl,Fluracil,Fluril,Fluroblastin,Ribofluor,Ro29757),Leucovorin Calcium(Calfolex,Calinat,Cehafolin,Citofolin,Citrec,Citrovorum Factor,Cromatonbic Folinico,Dalisol,Disintox,Divical,Ecofol,Emovis,FOLIcell,Flynoken A,Folaren,Folaxin,Foliben,Folidan,Folidar,Folinac,Folinate Calcium,Folinoral,Folinvit,Foliplus,Folix,Imo,Lederfolat,Lederfolin,Leucosar,Rescufolin,Rescuvolin,Tonofolin,Wellcovorin),Oxaliplatin(1OHP,Ai Heng,DACPLAT,Dacotin,ELOXATIN,Eloxatine,JM83),Bevacizumab(AntiVEGF rhuMAb, BEVZ92,Bevacizumab-awwb,Bevacizumab BI 695502,Bevacizumab CBT 124,Bevacizumab FKB238,Bevacizumab HD204,Bevacizumab HLX04,Bevacizumab MIL60,Bevacizumab QL 1101,HD204,Avastin,Mvasi)                                                              198\n",
       "                                                                                                                                                                                                                                                                                                                                                                                                                                                                                                                                                                                                                                                                                                                                                                                                                                                      ... \n",
       "Rituximab(ABP798,BI 695500,C2B8 Monoclonal Antibody,CTP10,IDEC102,IDECC2B8,MabThera,PF05280586,RTXM83,Rituxan,Rituximab ABP 798,Rituximab BI 695500,Rituximab CTP10,Rituximab GB241,Rituximab  IBI301,Rituximab  PF05280586,Rituximab RTXM83,Rituximab SAIT101,Truxima,rituximab abbs),Cytarabine(ARAcell,Alexan,AraC,Arabine,Aracytidine,Aracytin,Aracytine,CHX3311,Cytarabinum,Cytarbel,Cytosar,CytosarU,Cytosine Arabinoside,Erpalfa,Starasid,Tarabine PFS,U 19920,U19920,Udicil,WR28453),Oxaliplatin(1OHP,Ai Heng,DACPLAT,Dacotin,ELOXATIN,Eloxatine,JM83)                                                                                                                                                                                                                                                                                           1\n",
       "Carmustine(BCNU,Becenum,BiCNU, Carmubris,Carmustin,Carmustinum,FDA 0345,Nitrourean,Nitrumon,K27702,SRI1720,WR139021),Etoposide(EPEG,Lastet,Toposar,VP 16213,VP16,VP16213,Vepesid),Cytarabine(ARAcell,Alexan,AraC,Arabine,Aracytidine,Aracytin,Aracytine,CHX3311,Cytarabinum,Cytarbel,Cytosar,CytosarU,Cytosine Arabinoside,Erpalfa,Starasid,Tarabine PFS,U 19920,U19920,Udicil,WR28453),Melphalan(L Sarcolysine,Melphalanum,Phenylalanine Mustard,Sarcoclorin,Sarkolysin,WR19813)                                                                                                                                                                                                                                                                                                                                                                        1\n",
       "Vinorelbine Tartrate(Biovelbin,Eunades,KW2307,NVB,Navelbine,Vinorelbine Ditartrate)                                                                                                                                                                                                                                                                                                                                                                                                                                                                                                                                                                                                                                                                                                                                                                      1\n",
       "Fluorouracil(5FU,5Fluorouracil,5Fluracil,AccuSite,Adrucil,Carac,Fluouracil,Flurablastin,Fluracedyl,Fluracil,Fluril,Fluroblastin,Ribofluor,Ro29757),Panitumumab(ABXEGF, Vectibix)                                                                                                                                                                                                                                                                                                                                                                                                                                                                                                                                                                                                                                                                         1\n",
       "Irinotecan Hydrochloride(CPT11,Campto,Camptosar,U101440E),Leucovorin Calcium(Calfolex,Calinat,Cehafolin,Citofolin,Citrec,Citrovorum Factor,Cromatonbic Folinico,Dalisol,Disintox,Divical,Ecofol,Emovis,FOLIcell,Flynoken A,Folaren,Folaxin,Foliben,Folidan,Folidar,Folinac,Folinate Calcium,Folinoral,Folinvit,Foliplus,Folix,Imo,Lederfolat,Lederfolin,Leucosar,Rescufolin,Rescuvolin,Tonofolin,Wellcovorin),Bevacizumab(AntiVEGF rhuMAb, BEVZ92,Bevacizumab-awwb,Bevacizumab BI 695502,Bevacizumab CBT 124,Bevacizumab FKB238,Bevacizumab HD204,Bevacizumab HLX04,Bevacizumab MIL60,Bevacizumab QL 1101,HD204,Avastin,Mvasi),Oxaliplatin(1OHP,Ai Heng,DACPLAT,Dacotin,ELOXATIN,Eloxatine,JM83),Fluorouracil(5FU,5Fluorouracil,5Fluracil,AccuSite,Adrucil,Carac,Fluouracil,Flurablastin,Fluracedyl,Fluracil,Fluril,Fluroblastin,Ribofluor,Ro29757)      1\n",
       "Name: count, Length: 453, dtype: int64"
      ]
     },
     "execution_count": 8,
     "metadata": {},
     "output_type": "execute_result"
    }
   ],
   "source": [
    "#combine the columns 'drugs_drug_1' through 'drugs_drug_5', into a single column 'drugs_combined', with the values separated by commas\n",
    "data['drugs_combined'] = data[['drugs_drug_1', 'drugs_drug_2', 'drugs_drug_3', 'drugs_drug_4', 'drugs_drug_5']].apply(lambda x: ','.join(x.dropna().astype(str)), axis=1)\n",
    "data['drugs_combined'].value_counts()"
   ]
  },
  {
   "cell_type": "code",
   "execution_count": 3,
   "metadata": {},
   "outputs": [
    {
     "data": {
      "text/plain": [
       "count    4537.000000\n",
       "mean      191.841966\n",
       "std       277.716217\n",
       "min         0.000000\n",
       "25%        53.000000\n",
       "50%       111.000000\n",
       "75%       218.000000\n",
       "max      3341.000000\n",
       "Name: tt_pfs_i_g_days, dtype: float64"
      ]
     },
     "execution_count": 3,
     "metadata": {},
     "output_type": "execute_result"
    }
   ],
   "source": [
    "data['tt_pfs_i_g_days'].describe()"
   ]
  },
  {
   "cell_type": "code",
   "execution_count": 4,
   "metadata": {},
   "outputs": [
    {
     "data": {
      "text/plain": [
       "drugs_drug_1\n",
       "Fluorouracil(5FU,5Fluorouracil,5Fluracil,AccuSite,Adrucil,Carac,Fluouracil,Flurablastin,Fluracedyl,Fluracil,Fluril,Fluroblastin,Ribofluor,Ro29757)                                                                                                                                                                                                     2029\n",
       "Leucovorin Calcium(Calfolex,Calinat,Cehafolin,Citofolin,Citrec,Citrovorum Factor,Cromatonbic Folinico,Dalisol,Disintox,Divical,Ecofol,Emovis,FOLIcell,Flynoken A,Folaren,Folaxin,Foliben,Folidan,Folidar,Folinac,Folinate Calcium,Folinoral,Folinvit,Foliplus,Folix,Imo,Lederfolat,Lederfolin,Leucosar,Rescufolin,Rescuvolin,Tonofolin,Wellcovorin)     606\n",
       "Capecitabine(Ro091978 000,Xeloda)                                                                                                                                                                                                                                                                                                                       481\n",
       "Bevacizumab(AntiVEGF rhuMAb, BEVZ92,Bevacizumab-awwb,Bevacizumab BI 695502,Bevacizumab CBT 124,Bevacizumab FKB238,Bevacizumab HD204,Bevacizumab HLX04,Bevacizumab MIL60,Bevacizumab QL 1101,HD204,Avastin,Mvasi)                                                                                                                                        440\n",
       "Irinotecan Hydrochloride(CPT11,Campto,Camptosar,U101440E)                                                                                                                                                                                                                                                                                               362\n",
       "                                                                                                                                                                                                                                                                                                                                                       ... \n",
       "Vinblastine Sulfate(29060LE,Exal,VINCALEUKOBLASTINE,Velban,Velbe,Velsar)                                                                                                                                                                                                                                                                                  1\n",
       "Lenalidomide(CC5013,CDC501,Revlimid)                                                                                                                                                                                                                                                                                                                      1\n",
       "Bortezomib(LDP341,MLN341,PS341,Velcade)                                                                                                                                                                                                                                                                                                                   1\n",
       "Lapatinib Ditosylate(Tykerb)                                                                                                                                                                                                                                                                                                                              1\n",
       "Cytarabine liposomal(Depocyt,Liposomal Ara-C)                                                                                                                                                                                                                                                                                                             1\n",
       "Name: count, Length: 80, dtype: int64"
      ]
     },
     "execution_count": 4,
     "metadata": {},
     "output_type": "execute_result"
    }
   ],
   "source": []
  },
  {
   "cell_type": "code",
   "execution_count": 5,
   "metadata": {},
   "outputs": [
    {
     "data": {
      "text/plain": [
       "(8, 103)"
      ]
     },
     "execution_count": 5,
     "metadata": {},
     "output_type": "execute_result"
    }
   ],
   "source": [
    "data_dabra = data.loc[data['drugs_drug_1'].str.contains('dabrafenib', case=False, na=False)]\n",
    "data_dabra.shape"
   ]
  },
  {
   "cell_type": "code",
   "execution_count": 7,
   "metadata": {},
   "outputs": [
    {
     "data": {
      "text/plain": [
       "pfs_m_g_status\n",
       "1.0    6\n",
       "0.0    1\n",
       "Name: count, dtype: int64"
      ]
     },
     "execution_count": 7,
     "metadata": {},
     "output_type": "execute_result"
    }
   ],
   "source": [
    "data_dabra['pfs_m_g_status'].value_counts()"
   ]
  },
  {
   "cell_type": "code",
   "execution_count": null,
   "metadata": {},
   "outputs": [],
   "source": []
  }
 ],
 "metadata": {
  "kernelspec": {
   "display_name": "Python 3",
   "language": "python",
   "name": "python3"
  },
  "language_info": {
   "codemirror_mode": {
    "name": "ipython",
    "version": 3
   },
   "file_extension": ".py",
   "mimetype": "text/x-python",
   "name": "python",
   "nbconvert_exporter": "python",
   "pygments_lexer": "ipython3",
   "version": "3.10.6"
  },
  "orig_nbformat": 4
 },
 "nbformat": 4,
 "nbformat_minor": 2
}
