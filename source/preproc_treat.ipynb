{
 "cells": [
  {
   "cell_type": "code",
   "execution_count": 1,
   "metadata": {},
   "outputs": [],
   "source": [
    "import pandas as pd\n",
    "import numpy as np"
   ]
  },
  {
   "cell_type": "code",
   "execution_count": 2,
   "metadata": {},
   "outputs": [
    {
     "data": {
      "text/html": [
       "<div>\n",
       "<style scoped>\n",
       "    .dataframe tbody tr th:only-of-type {\n",
       "        vertical-align: middle;\n",
       "    }\n",
       "\n",
       "    .dataframe tbody tr th {\n",
       "        vertical-align: top;\n",
       "    }\n",
       "\n",
       "    .dataframe thead th {\n",
       "        text-align: right;\n",
       "    }\n",
       "</style>\n",
       "<table border=\"1\" class=\"dataframe\">\n",
       "  <thead>\n",
       "    <tr style=\"text-align: right;\">\n",
       "      <th></th>\n",
       "      <th>PATIENT_ID</th>\n",
       "      <th>START_DATE</th>\n",
       "      <th>STOP_DATE</th>\n",
       "      <th>EVENT_TYPE</th>\n",
       "      <th>TREATMENT_TYPE</th>\n",
       "      <th>AGENT</th>\n",
       "      <th>REGIMEN</th>\n",
       "      <th>REGIMEN_NUMBER</th>\n",
       "      <th>DURATION_DX_START_STOP</th>\n",
       "      <th>CA_SEQ</th>\n",
       "      <th>DRUGS_CT_YN</th>\n",
       "      <th>DRUGS_DC_YN</th>\n",
       "      <th>REDCAP_CA_INDEX</th>\n",
       "    </tr>\n",
       "  </thead>\n",
       "  <tbody>\n",
       "    <tr>\n",
       "      <th>0</th>\n",
       "      <td>GENIE-DFCI-000048</td>\n",
       "      <td>51</td>\n",
       "      <td>205.0</td>\n",
       "      <td>Treatment</td>\n",
       "      <td>Systemic Therapy</td>\n",
       "      <td>Fluorouracil</td>\n",
       "      <td>Fluorouracil, Leucovorin Calcium</td>\n",
       "      <td>1</td>\n",
       "      <td>155.0</td>\n",
       "      <td>0</td>\n",
       "      <td>No</td>\n",
       "      <td>Yes</td>\n",
       "      <td>Yes</td>\n",
       "    </tr>\n",
       "    <tr>\n",
       "      <th>1</th>\n",
       "      <td>GENIE-DFCI-000048</td>\n",
       "      <td>51</td>\n",
       "      <td>205.0</td>\n",
       "      <td>Treatment</td>\n",
       "      <td>Systemic Therapy</td>\n",
       "      <td>Leucovorin Calcium</td>\n",
       "      <td>Fluorouracil, Leucovorin Calcium</td>\n",
       "      <td>1</td>\n",
       "      <td>155.0</td>\n",
       "      <td>0</td>\n",
       "      <td>No</td>\n",
       "      <td>Yes</td>\n",
       "      <td>Yes</td>\n",
       "    </tr>\n",
       "    <tr>\n",
       "      <th>2</th>\n",
       "      <td>GENIE-DFCI-000147</td>\n",
       "      <td>24</td>\n",
       "      <td>73.0</td>\n",
       "      <td>Treatment</td>\n",
       "      <td>Systemic Therapy</td>\n",
       "      <td>Capecitabine</td>\n",
       "      <td>Capecitabine</td>\n",
       "      <td>1</td>\n",
       "      <td>50.0</td>\n",
       "      <td>0</td>\n",
       "      <td>No</td>\n",
       "      <td>Yes</td>\n",
       "      <td>Yes</td>\n",
       "    </tr>\n",
       "    <tr>\n",
       "      <th>3</th>\n",
       "      <td>GENIE-DFCI-000147</td>\n",
       "      <td>205</td>\n",
       "      <td>309.0</td>\n",
       "      <td>Treatment</td>\n",
       "      <td>Systemic Therapy</td>\n",
       "      <td>Capecitabine</td>\n",
       "      <td>Capecitabine, Oxaliplatin</td>\n",
       "      <td>2</td>\n",
       "      <td>105.0</td>\n",
       "      <td>0</td>\n",
       "      <td>No</td>\n",
       "      <td>Yes</td>\n",
       "      <td>Yes</td>\n",
       "    </tr>\n",
       "    <tr>\n",
       "      <th>4</th>\n",
       "      <td>GENIE-DFCI-000147</td>\n",
       "      <td>205</td>\n",
       "      <td>309.0</td>\n",
       "      <td>Treatment</td>\n",
       "      <td>Systemic Therapy</td>\n",
       "      <td>Oxaliplatin</td>\n",
       "      <td>Capecitabine, Oxaliplatin</td>\n",
       "      <td>2</td>\n",
       "      <td>105.0</td>\n",
       "      <td>0</td>\n",
       "      <td>No</td>\n",
       "      <td>Yes</td>\n",
       "      <td>Yes</td>\n",
       "    </tr>\n",
       "  </tbody>\n",
       "</table>\n",
       "</div>"
      ],
      "text/plain": [
       "          PATIENT_ID  START_DATE  STOP_DATE EVENT_TYPE    TREATMENT_TYPE   \n",
       "0  GENIE-DFCI-000048          51      205.0  Treatment  Systemic Therapy  \\\n",
       "1  GENIE-DFCI-000048          51      205.0  Treatment  Systemic Therapy   \n",
       "2  GENIE-DFCI-000147          24       73.0  Treatment  Systemic Therapy   \n",
       "3  GENIE-DFCI-000147         205      309.0  Treatment  Systemic Therapy   \n",
       "4  GENIE-DFCI-000147         205      309.0  Treatment  Systemic Therapy   \n",
       "\n",
       "                AGENT                           REGIMEN  REGIMEN_NUMBER   \n",
       "0        Fluorouracil  Fluorouracil, Leucovorin Calcium               1  \\\n",
       "1  Leucovorin Calcium  Fluorouracil, Leucovorin Calcium               1   \n",
       "2        Capecitabine                      Capecitabine               1   \n",
       "3        Capecitabine         Capecitabine, Oxaliplatin               2   \n",
       "4         Oxaliplatin         Capecitabine, Oxaliplatin               2   \n",
       "\n",
       "   DURATION_DX_START_STOP  CA_SEQ DRUGS_CT_YN DRUGS_DC_YN REDCAP_CA_INDEX  \n",
       "0                   155.0       0          No         Yes             Yes  \n",
       "1                   155.0       0          No         Yes             Yes  \n",
       "2                    50.0       0          No         Yes             Yes  \n",
       "3                   105.0       0          No         Yes             Yes  \n",
       "4                   105.0       0          No         Yes             Yes  "
      ]
     },
     "execution_count": 2,
     "metadata": {},
     "output_type": "execute_result"
    }
   ],
   "source": [
    "data = pd.read_csv('../data/crc_raw/cBioPortal_files/data_timeline_treatment.txt', sep='\\t')\n",
    "data.head()"
   ]
  },
  {
   "cell_type": "code",
   "execution_count": 3,
   "metadata": {},
   "outputs": [
    {
     "data": {
      "text/plain": [
       "REGIMEN\n",
       "Regorafenib                                                                    103\n",
       "Fluorouracil, Irinotecan Hydrochloride, Leucovorin Calcium, Ziv Aflibercept     56\n",
       "Dabrafenib, Panitumumab, Trametinib                                             24\n",
       "Cetuximab, Cobimetinib, Vemurafenib                                              9\n",
       "Cetuximab, Irinotecan Hydrochloride, Vemurafenib                                 9\n",
       "Dabrafenib, Investigational Drug, Trametinib                                     9\n",
       "Dabrafenib, Trametinib                                                           8\n",
       "Fluorouracil, Leucovorin Calcium, Oxaliplatin, Ziv Aflibercept                   8\n",
       "Binimetinib, Encorafenib, Panitumumab                                            6\n",
       "Binimetinib, Cetuximab, Encorafenib                                              6\n",
       "Lapatinib Ditosylate, Trastuzumab                                                6\n",
       "Irinotecan Hydrochloride, Olaparib                                               4\n",
       "Investigational Drug, Trametinib                                                 4\n",
       "Nivolumab, Regorafenib                                                           4\n",
       "Cetuximab, Trifluridine and Tipiracil Hydrochloride, Vemurafenib                 3\n",
       "Cobimetinib, Pembrolizumab, Vemurafenib                                          3\n",
       "Dabrafenib, Irinotecan Hydrochloride, Panitumumab                                3\n",
       "Cobimetinib, Panitumumab, Vemurafenib                                            3\n",
       "Irinotecan Hydrochloride, Ziv Aflibercept                                        2\n",
       "Panitumumab, Vemurafenib                                                         2\n",
       "Investigational Drug, Olaparib                                                   2\n",
       "Atezolizumab, Cabozantinib Smalate                                               2\n",
       "Panitumumab, Regorafenib                                                         2\n",
       "Investigational Drug, Regorafenib                                                2\n",
       "Neratinib, Trastuzumab                                                           2\n",
       "Atezolizumab, Cobimetinib                                                        2\n",
       "Cabozantinib Smalate                                                             2\n",
       "Fluorouracil, Ziv Aflibercept                                                    2\n",
       "Ceritinib                                                                        1\n",
       "Alectinib                                                                        1\n",
       "Olaparib                                                                         1\n",
       "Imatinib Mesylate                                                                1\n",
       "Name: count, dtype: int64"
      ]
     },
     "execution_count": 3,
     "metadata": {},
     "output_type": "execute_result"
    }
   ],
   "source": [
    "data_ib = data.loc[data['REGIMEN'].str.contains('ib', case=False, na=False)]\n",
    "data_ib['REGIMEN'].value_counts()"
   ]
  },
  {
   "cell_type": "code",
   "execution_count": 4,
   "metadata": {},
   "outputs": [
    {
     "data": {
      "text/plain": [
       "REGIMEN\n",
       "Regorafenib                          103\n",
       "Nivolumab, Regorafenib                 4\n",
       "Investigational Drug, Regorafenib      2\n",
       "Panitumumab, Regorafenib               2\n",
       "Name: count, dtype: int64"
      ]
     },
     "execution_count": 4,
     "metadata": {},
     "output_type": "execute_result"
    }
   ],
   "source": [
    "data_reg = data.loc[data['REGIMEN'].str.contains('reg', case=False, na=False)]\n",
    "data_reg['REGIMEN'].value_counts()"
   ]
  },
  {
   "cell_type": "code",
   "execution_count": 6,
   "metadata": {},
   "outputs": [
    {
     "name": "stdout",
     "output_type": "stream",
     "text": [
      "(292, 13)\n",
      "(144, 13)\n"
     ]
    },
    {
     "name": "stderr",
     "output_type": "stream",
     "text": [
      "/tmp/ipykernel_3883047/64439502.py:2: SettingWithCopyWarning: \n",
      "A value is trying to be set on a copy of a slice from a DataFrame\n",
      "\n",
      "See the caveats in the documentation: https://pandas.pydata.org/pandas-docs/stable/user_guide/indexing.html#returning-a-view-versus-a-copy\n",
      "  data_ib.drop_duplicates(subset=['PATIENT_ID'], inplace=True)\n"
     ]
    }
   ],
   "source": [
    "print(data_ib.shape)\n",
    "data_ib.drop_duplicates(subset=['PATIENT_ID'], inplace=True)\n",
    "print(data_ib.shape)"
   ]
  },
  {
   "cell_type": "code",
   "execution_count": 7,
   "metadata": {},
   "outputs": [
    {
     "name": "stdout",
     "output_type": "stream",
     "text": [
      "(111, 13)\n",
      "(100, 13)\n"
     ]
    },
    {
     "name": "stderr",
     "output_type": "stream",
     "text": [
      "/tmp/ipykernel_3883047/3552044722.py:2: SettingWithCopyWarning: \n",
      "A value is trying to be set on a copy of a slice from a DataFrame\n",
      "\n",
      "See the caveats in the documentation: https://pandas.pydata.org/pandas-docs/stable/user_guide/indexing.html#returning-a-view-versus-a-copy\n",
      "  data_reg.drop_duplicates(subset=['PATIENT_ID'], inplace=True)\n"
     ]
    }
   ],
   "source": [
    "print(data_reg.shape)\n",
    "data_reg.drop_duplicates(subset=['PATIENT_ID'], inplace=True)\n",
    "print(data_reg.shape)"
   ]
  },
  {
   "cell_type": "code",
   "execution_count": 5,
   "metadata": {},
   "outputs": [],
   "source": [
    "data_ib.to_csv('../data/crc_treat_ib.csv', index=False)\n",
    "data_reg.to_csv('../data/crc_treat_reg.csv', index=False)"
   ]
  },
  {
   "cell_type": "code",
   "execution_count": null,
   "metadata": {},
   "outputs": [],
   "source": []
  }
 ],
 "metadata": {
  "kernelspec": {
   "display_name": "Python 3",
   "language": "python",
   "name": "python3"
  },
  "language_info": {
   "codemirror_mode": {
    "name": "ipython",
    "version": 3
   },
   "file_extension": ".py",
   "mimetype": "text/x-python",
   "name": "python",
   "nbconvert_exporter": "python",
   "pygments_lexer": "ipython3",
   "version": "3.10.6"
  },
  "orig_nbformat": 4
 },
 "nbformat": 4,
 "nbformat_minor": 2
}
