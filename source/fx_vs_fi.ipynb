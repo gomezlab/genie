{
 "cells": [
  {
   "cell_type": "code",
   "execution_count": 11,
   "metadata": {},
   "outputs": [],
   "source": [
    "import pandas as pd\n",
    "import numpy as np\n",
    "import os\n",
    "from sklearn.metrics import roc_auc_score\n",
    "from sklearn.model_selection import train_test_split\n",
    "from xgboost import XGBClassifier\n",
    "import seaborn as sns\n",
    "import matplotlib.pyplot as plt"
   ]
  },
  {
   "cell_type": "code",
   "execution_count": 3,
   "metadata": {},
   "outputs": [],
   "source": [
    "fx = pd.read_csv('../data/crc_{}_mut_cna_fus_clin.csv'.format('folfox'), index_col=0)\n",
    "fi = pd.read_csv('../data/crc_{}_mut_cna_fus_clin.csv'.format('folfiri'), index_col=0)"
   ]
  },
  {
   "cell_type": "code",
   "execution_count": 79,
   "metadata": {},
   "outputs": [
    {
     "data": {
      "text/html": [
       "<div>\n",
       "<style scoped>\n",
       "    .dataframe tbody tr th:only-of-type {\n",
       "        vertical-align: middle;\n",
       "    }\n",
       "\n",
       "    .dataframe tbody tr th {\n",
       "        vertical-align: top;\n",
       "    }\n",
       "\n",
       "    .dataframe thead th {\n",
       "        text-align: right;\n",
       "    }\n",
       "</style>\n",
       "<table border=\"1\" class=\"dataframe\">\n",
       "  <thead>\n",
       "    <tr style=\"text-align: right;\">\n",
       "      <th></th>\n",
       "      <th>id_institution</th>\n",
       "      <th>id_drugs_list</th>\n",
       "      <th>OS</th>\n",
       "      <th>id_tt_os_g_mos</th>\n",
       "      <th>PFS</th>\n",
       "      <th>id_tt_pfs_m_g_mos</th>\n",
       "      <th>mut_CDK4</th>\n",
       "      <th>mut_CCND3</th>\n",
       "      <th>mut_CDH1</th>\n",
       "      <th>mut_CDK8</th>\n",
       "      <th>...</th>\n",
       "      <th>clin_ca_crc_crm</th>\n",
       "      <th>clin_ca_crc_peri_inv</th>\n",
       "      <th>clin_crc_type</th>\n",
       "      <th>OS_time</th>\n",
       "      <th>clin_Histology Category</th>\n",
       "      <th>clin_Histology</th>\n",
       "      <th>clin_Derived Grade or Differentiation of Tumor</th>\n",
       "      <th>clin_CEA</th>\n",
       "      <th>pred</th>\n",
       "      <th>pred_quartile</th>\n",
       "    </tr>\n",
       "  </thead>\n",
       "  <tbody>\n",
       "    <tr>\n",
       "      <th>GENIE-DFCI-000233</th>\n",
       "      <td>DFCI</td>\n",
       "      <td>Fluorouracil, Leucovorin Calcium, Oxaliplatin</td>\n",
       "      <td>0</td>\n",
       "      <td>100.986842</td>\n",
       "      <td>0.0</td>\n",
       "      <td>31.578947</td>\n",
       "      <td>0</td>\n",
       "      <td>0</td>\n",
       "      <td>0</td>\n",
       "      <td>0</td>\n",
       "      <td>...</td>\n",
       "      <td>2</td>\n",
       "      <td>0</td>\n",
       "      <td>2</td>\n",
       "      <td>3303</td>\n",
       "      <td>0</td>\n",
       "      <td>0</td>\n",
       "      <td>1</td>\n",
       "      <td>1.0</td>\n",
       "      <td>0.164166</td>\n",
       "      <td>0</td>\n",
       "    </tr>\n",
       "    <tr>\n",
       "      <th>GENIE-DFCI-000247</th>\n",
       "      <td>DFCI</td>\n",
       "      <td>Fluorouracil, Leucovorin Calcium, Oxaliplatin</td>\n",
       "      <td>1</td>\n",
       "      <td>35.789474</td>\n",
       "      <td>0.0</td>\n",
       "      <td>3.914474</td>\n",
       "      <td>0</td>\n",
       "      <td>0</td>\n",
       "      <td>0</td>\n",
       "      <td>0</td>\n",
       "      <td>...</td>\n",
       "      <td>0</td>\n",
       "      <td>0</td>\n",
       "      <td>2</td>\n",
       "      <td>1163</td>\n",
       "      <td>0</td>\n",
       "      <td>0</td>\n",
       "      <td>0</td>\n",
       "      <td>4.9</td>\n",
       "      <td>0.590142</td>\n",
       "      <td>3</td>\n",
       "    </tr>\n",
       "    <tr>\n",
       "      <th>GENIE-DFCI-000306</th>\n",
       "      <td>DFCI</td>\n",
       "      <td>bev, Fluorouracil, Leucovorin Calcium, Oxalipl...</td>\n",
       "      <td>0</td>\n",
       "      <td>38.125000</td>\n",
       "      <td>0.0</td>\n",
       "      <td>12.960526</td>\n",
       "      <td>0</td>\n",
       "      <td>0</td>\n",
       "      <td>0</td>\n",
       "      <td>0</td>\n",
       "      <td>...</td>\n",
       "      <td>2</td>\n",
       "      <td>0</td>\n",
       "      <td>3</td>\n",
       "      <td>1230</td>\n",
       "      <td>0</td>\n",
       "      <td>0</td>\n",
       "      <td>1</td>\n",
       "      <td>0.7</td>\n",
       "      <td>0.277740</td>\n",
       "      <td>1</td>\n",
       "    </tr>\n",
       "    <tr>\n",
       "      <th>GENIE-DFCI-000738</th>\n",
       "      <td>DFCI</td>\n",
       "      <td>Fluorouracil, Leucovorin Calcium, Oxaliplatin</td>\n",
       "      <td>0</td>\n",
       "      <td>51.578947</td>\n",
       "      <td>NaN</td>\n",
       "      <td>NaN</td>\n",
       "      <td>0</td>\n",
       "      <td>0</td>\n",
       "      <td>0</td>\n",
       "      <td>0</td>\n",
       "      <td>...</td>\n",
       "      <td>2</td>\n",
       "      <td>0</td>\n",
       "      <td>3</td>\n",
       "      <td>1623</td>\n",
       "      <td>0</td>\n",
       "      <td>1</td>\n",
       "      <td>1</td>\n",
       "      <td>1.8</td>\n",
       "      <td>0.117713</td>\n",
       "      <td>0</td>\n",
       "    </tr>\n",
       "    <tr>\n",
       "      <th>GENIE-DFCI-000924</th>\n",
       "      <td>DFCI</td>\n",
       "      <td>Fluorouracil, Leucovorin Calcium, Oxaliplatin</td>\n",
       "      <td>0</td>\n",
       "      <td>65.361842</td>\n",
       "      <td>NaN</td>\n",
       "      <td>NaN</td>\n",
       "      <td>0</td>\n",
       "      <td>0</td>\n",
       "      <td>0</td>\n",
       "      <td>0</td>\n",
       "      <td>...</td>\n",
       "      <td>2</td>\n",
       "      <td>1</td>\n",
       "      <td>0</td>\n",
       "      <td>2039</td>\n",
       "      <td>0</td>\n",
       "      <td>0</td>\n",
       "      <td>1</td>\n",
       "      <td>0.6</td>\n",
       "      <td>0.109232</td>\n",
       "      <td>0</td>\n",
       "    </tr>\n",
       "  </tbody>\n",
       "</table>\n",
       "<p>5 rows × 734 columns</p>\n",
       "</div>"
      ],
      "text/plain": [
       "                  id_institution   \n",
       "GENIE-DFCI-000233           DFCI  \\\n",
       "GENIE-DFCI-000247           DFCI   \n",
       "GENIE-DFCI-000306           DFCI   \n",
       "GENIE-DFCI-000738           DFCI   \n",
       "GENIE-DFCI-000924           DFCI   \n",
       "\n",
       "                                                       id_drugs_list  OS   \n",
       "GENIE-DFCI-000233      Fluorouracil, Leucovorin Calcium, Oxaliplatin   0  \\\n",
       "GENIE-DFCI-000247      Fluorouracil, Leucovorin Calcium, Oxaliplatin   1   \n",
       "GENIE-DFCI-000306  bev, Fluorouracil, Leucovorin Calcium, Oxalipl...   0   \n",
       "GENIE-DFCI-000738      Fluorouracil, Leucovorin Calcium, Oxaliplatin   0   \n",
       "GENIE-DFCI-000924      Fluorouracil, Leucovorin Calcium, Oxaliplatin   0   \n",
       "\n",
       "                   id_tt_os_g_mos  PFS  id_tt_pfs_m_g_mos  mut_CDK4   \n",
       "GENIE-DFCI-000233      100.986842  0.0          31.578947         0  \\\n",
       "GENIE-DFCI-000247       35.789474  0.0           3.914474         0   \n",
       "GENIE-DFCI-000306       38.125000  0.0          12.960526         0   \n",
       "GENIE-DFCI-000738       51.578947  NaN                NaN         0   \n",
       "GENIE-DFCI-000924       65.361842  NaN                NaN         0   \n",
       "\n",
       "                   mut_CCND3  mut_CDH1  mut_CDK8  ...  clin_ca_crc_crm   \n",
       "GENIE-DFCI-000233          0         0         0  ...                2  \\\n",
       "GENIE-DFCI-000247          0         0         0  ...                0   \n",
       "GENIE-DFCI-000306          0         0         0  ...                2   \n",
       "GENIE-DFCI-000738          0         0         0  ...                2   \n",
       "GENIE-DFCI-000924          0         0         0  ...                2   \n",
       "\n",
       "                   clin_ca_crc_peri_inv  clin_crc_type  OS_time   \n",
       "GENIE-DFCI-000233                     0              2     3303  \\\n",
       "GENIE-DFCI-000247                     0              2     1163   \n",
       "GENIE-DFCI-000306                     0              3     1230   \n",
       "GENIE-DFCI-000738                     0              3     1623   \n",
       "GENIE-DFCI-000924                     1              0     2039   \n",
       "\n",
       "                   clin_Histology Category  clin_Histology   \n",
       "GENIE-DFCI-000233                        0               0  \\\n",
       "GENIE-DFCI-000247                        0               0   \n",
       "GENIE-DFCI-000306                        0               0   \n",
       "GENIE-DFCI-000738                        0               1   \n",
       "GENIE-DFCI-000924                        0               0   \n",
       "\n",
       "                   clin_Derived Grade or Differentiation of Tumor  clin_CEA   \n",
       "GENIE-DFCI-000233                                               1       1.0  \\\n",
       "GENIE-DFCI-000247                                               0       4.9   \n",
       "GENIE-DFCI-000306                                               1       0.7   \n",
       "GENIE-DFCI-000738                                               1       1.8   \n",
       "GENIE-DFCI-000924                                               1       0.6   \n",
       "\n",
       "                       pred  pred_quartile  \n",
       "GENIE-DFCI-000233  0.164166              0  \n",
       "GENIE-DFCI-000247  0.590142              3  \n",
       "GENIE-DFCI-000306  0.277740              1  \n",
       "GENIE-DFCI-000738  0.117713              0  \n",
       "GENIE-DFCI-000924  0.109232              0  \n",
       "\n",
       "[5 rows x 734 columns]"
      ]
     },
     "execution_count": 79,
     "metadata": {},
     "output_type": "execute_result"
    }
   ],
   "source": [
    "fx.head()"
   ]
  },
  {
   "cell_type": "code",
   "execution_count": 7,
   "metadata": {},
   "outputs": [],
   "source": [
    "today_str = '061923'\n",
    "fx_params = pd.read_csv('../results/hp_search/results_xgb_folfox_OS_comb_061923.csv', index_col=0)\n",
    "\n",
    "colsample_bytree = fx_params['param_colsample_bytree'].values[0]\n",
    "lr = fx_params['param_learning_rate'].values[0]\n",
    "max_depth = fx_params['param_max_depth'].values[0]\n",
    "min_child_weight = fx_params['param_min_child_weight'].values[0]\n",
    "n_estimators = fx_params['param_n_estimators'].values[0]\n",
    "reg_alpha = fx_params['param_reg_alpha'].values[0]\n",
    "reg_lambda = fx_params['param_reg_lambda'].values[0]\n",
    "subsample = fx_params['param_subsample'].values[0]\n",
    "xgb_fx = XGBClassifier(colsample_bytree=colsample_bytree, learning_rate=lr, max_depth=max_depth,\n",
    "                          min_child_weight=min_child_weight, n_estimators=n_estimators, reg_alpha=reg_alpha,\n",
    "                            reg_lambda=reg_lambda, subsample=subsample, random_state=0, n_jobs=-1)\n",
    "\n",
    "fi_params = pd.read_csv('../results/hp_search/results_xgb_folfiri_OS_comb_061923.csv', index_col=0)\n",
    "\n",
    "colsample_bytree = fi_params['param_colsample_bytree'].values[0]\n",
    "lr = fi_params['param_learning_rate'].values[0]\n",
    "max_depth = fi_params['param_max_depth'].values[0]\n",
    "min_child_weight = fi_params['param_min_child_weight'].values[0]\n",
    "n_estimators = fi_params['param_n_estimators'].values[0]\n",
    "reg_alpha = fi_params['param_reg_alpha'].values[0]\n",
    "reg_lambda = fi_params['param_reg_lambda'].values[0]\n",
    "subsample = fi_params['param_subsample'].values[0]\n",
    "xgb_fi = XGBClassifier(colsample_bytree=colsample_bytree, learning_rate=lr, max_depth=max_depth,\n",
    "                            min_child_weight=min_child_weight, n_estimators=n_estimators, reg_alpha=reg_alpha,\n",
    "                            reg_lambda=reg_lambda, subsample=subsample, random_state=0, n_jobs=-1)\n",
    "\n"
   ]
  },
  {
   "cell_type": "code",
   "execution_count": 8,
   "metadata": {},
   "outputs": [
    {
     "data": {
      "text/html": [
       "<style>#sk-container-id-1 {color: black;background-color: white;}#sk-container-id-1 pre{padding: 0;}#sk-container-id-1 div.sk-toggleable {background-color: white;}#sk-container-id-1 label.sk-toggleable__label {cursor: pointer;display: block;width: 100%;margin-bottom: 0;padding: 0.3em;box-sizing: border-box;text-align: center;}#sk-container-id-1 label.sk-toggleable__label-arrow:before {content: \"▸\";float: left;margin-right: 0.25em;color: #696969;}#sk-container-id-1 label.sk-toggleable__label-arrow:hover:before {color: black;}#sk-container-id-1 div.sk-estimator:hover label.sk-toggleable__label-arrow:before {color: black;}#sk-container-id-1 div.sk-toggleable__content {max-height: 0;max-width: 0;overflow: hidden;text-align: left;background-color: #f0f8ff;}#sk-container-id-1 div.sk-toggleable__content pre {margin: 0.2em;color: black;border-radius: 0.25em;background-color: #f0f8ff;}#sk-container-id-1 input.sk-toggleable__control:checked~div.sk-toggleable__content {max-height: 200px;max-width: 100%;overflow: auto;}#sk-container-id-1 input.sk-toggleable__control:checked~label.sk-toggleable__label-arrow:before {content: \"▾\";}#sk-container-id-1 div.sk-estimator input.sk-toggleable__control:checked~label.sk-toggleable__label {background-color: #d4ebff;}#sk-container-id-1 div.sk-label input.sk-toggleable__control:checked~label.sk-toggleable__label {background-color: #d4ebff;}#sk-container-id-1 input.sk-hidden--visually {border: 0;clip: rect(1px 1px 1px 1px);clip: rect(1px, 1px, 1px, 1px);height: 1px;margin: -1px;overflow: hidden;padding: 0;position: absolute;width: 1px;}#sk-container-id-1 div.sk-estimator {font-family: monospace;background-color: #f0f8ff;border: 1px dotted black;border-radius: 0.25em;box-sizing: border-box;margin-bottom: 0.5em;}#sk-container-id-1 div.sk-estimator:hover {background-color: #d4ebff;}#sk-container-id-1 div.sk-parallel-item::after {content: \"\";width: 100%;border-bottom: 1px solid gray;flex-grow: 1;}#sk-container-id-1 div.sk-label:hover label.sk-toggleable__label {background-color: #d4ebff;}#sk-container-id-1 div.sk-serial::before {content: \"\";position: absolute;border-left: 1px solid gray;box-sizing: border-box;top: 0;bottom: 0;left: 50%;z-index: 0;}#sk-container-id-1 div.sk-serial {display: flex;flex-direction: column;align-items: center;background-color: white;padding-right: 0.2em;padding-left: 0.2em;position: relative;}#sk-container-id-1 div.sk-item {position: relative;z-index: 1;}#sk-container-id-1 div.sk-parallel {display: flex;align-items: stretch;justify-content: center;background-color: white;position: relative;}#sk-container-id-1 div.sk-item::before, #sk-container-id-1 div.sk-parallel-item::before {content: \"\";position: absolute;border-left: 1px solid gray;box-sizing: border-box;top: 0;bottom: 0;left: 50%;z-index: -1;}#sk-container-id-1 div.sk-parallel-item {display: flex;flex-direction: column;z-index: 1;position: relative;background-color: white;}#sk-container-id-1 div.sk-parallel-item:first-child::after {align-self: flex-end;width: 50%;}#sk-container-id-1 div.sk-parallel-item:last-child::after {align-self: flex-start;width: 50%;}#sk-container-id-1 div.sk-parallel-item:only-child::after {width: 0;}#sk-container-id-1 div.sk-dashed-wrapped {border: 1px dashed gray;margin: 0 0.4em 0.5em 0.4em;box-sizing: border-box;padding-bottom: 0.4em;background-color: white;}#sk-container-id-1 div.sk-label label {font-family: monospace;font-weight: bold;display: inline-block;line-height: 1.2em;}#sk-container-id-1 div.sk-label-container {text-align: center;}#sk-container-id-1 div.sk-container {/* jupyter's `normalize.less` sets `[hidden] { display: none; }` but bootstrap.min.css set `[hidden] { display: none !important; }` so we also need the `!important` here to be able to override the default hidden behavior on the sphinx rendered scikit-learn.org. See: https://github.com/scikit-learn/scikit-learn/issues/21755 */display: inline-block !important;position: relative;}#sk-container-id-1 div.sk-text-repr-fallback {display: none;}</style><div id=\"sk-container-id-1\" class=\"sk-top-container\"><div class=\"sk-text-repr-fallback\"><pre>XGBClassifier(base_score=None, booster=None, callbacks=None,\n",
       "              colsample_bylevel=None, colsample_bynode=None,\n",
       "              colsample_bytree=0.6, early_stopping_rounds=None,\n",
       "              enable_categorical=False, eval_metric=None, feature_types=None,\n",
       "              gamma=None, gpu_id=None, grow_policy=None, importance_type=None,\n",
       "              interaction_constraints=None, learning_rate=0.3, max_bin=None,\n",
       "              max_cat_threshold=None, max_cat_to_onehot=None,\n",
       "              max_delta_step=None, max_depth=6, max_leaves=None,\n",
       "              min_child_weight=4, missing=nan, monotone_constraints=None,\n",
       "              n_estimators=50, n_jobs=-1, num_parallel_tree=None,\n",
       "              predictor=None, random_state=0, ...)</pre><b>In a Jupyter environment, please rerun this cell to show the HTML representation or trust the notebook. <br />On GitHub, the HTML representation is unable to render, please try loading this page with nbviewer.org.</b></div><div class=\"sk-container\" hidden><div class=\"sk-item\"><div class=\"sk-estimator sk-toggleable\"><input class=\"sk-toggleable__control sk-hidden--visually\" id=\"sk-estimator-id-1\" type=\"checkbox\" checked><label for=\"sk-estimator-id-1\" class=\"sk-toggleable__label sk-toggleable__label-arrow\">XGBClassifier</label><div class=\"sk-toggleable__content\"><pre>XGBClassifier(base_score=None, booster=None, callbacks=None,\n",
       "              colsample_bylevel=None, colsample_bynode=None,\n",
       "              colsample_bytree=0.6, early_stopping_rounds=None,\n",
       "              enable_categorical=False, eval_metric=None, feature_types=None,\n",
       "              gamma=None, gpu_id=None, grow_policy=None, importance_type=None,\n",
       "              interaction_constraints=None, learning_rate=0.3, max_bin=None,\n",
       "              max_cat_threshold=None, max_cat_to_onehot=None,\n",
       "              max_delta_step=None, max_depth=6, max_leaves=None,\n",
       "              min_child_weight=4, missing=nan, monotone_constraints=None,\n",
       "              n_estimators=50, n_jobs=-1, num_parallel_tree=None,\n",
       "              predictor=None, random_state=0, ...)</pre></div></div></div></div></div>"
      ],
      "text/plain": [
       "XGBClassifier(base_score=None, booster=None, callbacks=None,\n",
       "              colsample_bylevel=None, colsample_bynode=None,\n",
       "              colsample_bytree=0.6, early_stopping_rounds=None,\n",
       "              enable_categorical=False, eval_metric=None, feature_types=None,\n",
       "              gamma=None, gpu_id=None, grow_policy=None, importance_type=None,\n",
       "              interaction_constraints=None, learning_rate=0.3, max_bin=None,\n",
       "              max_cat_threshold=None, max_cat_to_onehot=None,\n",
       "              max_delta_step=None, max_depth=6, max_leaves=None,\n",
       "              min_child_weight=4, missing=nan, monotone_constraints=None,\n",
       "              n_estimators=50, n_jobs=-1, num_parallel_tree=None,\n",
       "              predictor=None, random_state=0, ...)"
      ]
     },
     "execution_count": 8,
     "metadata": {},
     "output_type": "execute_result"
    }
   ],
   "source": [
    "X_fx = fx[[col for col in fx.columns if 'mut_' in col or 'cna_' in col or 'clin_' in col or 'fus_' in col]]\n",
    "y_fx = fx['OS']\n",
    "X_fi = fi[[col for col in fi.columns if 'mut_' in col or 'cna_' in col or 'clin_' in col or 'fus_' in col]]\n",
    "y_fi = fi['OS']\n",
    "\n",
    "xgb_fx.fit(X_fx, y_fx)\n",
    "xgb_fi.fit(X_fi, y_fi)"
   ]
  },
  {
   "cell_type": "code",
   "execution_count": 9,
   "metadata": {},
   "outputs": [],
   "source": [
    "fx['pred'] = xgb_fx.predict_proba(X_fx)[:, 1]\n",
    "fi['pred'] = xgb_fi.predict_proba(X_fi)[:, 1]"
   ]
  },
  {
   "cell_type": "code",
   "execution_count": 10,
   "metadata": {},
   "outputs": [],
   "source": [
    "fx['pred_quartile'] = pd.qcut(fx['pred'], 4, labels=False)\n",
    "fi['pred_quartile'] = pd.qcut(fi['pred'], 4, labels=False)"
   ]
  },
  {
   "cell_type": "code",
   "execution_count": 69,
   "metadata": {},
   "outputs": [
    {
     "data": {
      "text/plain": [
       "pred_quartile\n",
       "0    323\n",
       "3    323\n",
       "1    322\n",
       "2    322\n",
       "Name: count, dtype: int64"
      ]
     },
     "execution_count": 69,
     "metadata": {},
     "output_type": "execute_result"
    }
   ],
   "source": [
    "fx['pred_quartile'].value_counts()"
   ]
  },
  {
   "cell_type": "code",
   "execution_count": 76,
   "metadata": {},
   "outputs": [],
   "source": [
    "def plot_km(data, stratify_by, time, outcome):\n",
    "    data_stage = {}\n",
    "    km_stage = {}\n",
    "    stages = data[stratify_by].unique()\n",
    "    for stage in stages:\n",
    "        data_stage[stage] = data[data[stratify_by] == stage]\n",
    "        km_stage[stage] = pd.DataFrame(columns=['time', 'n_patients', 'n_died', 'prob_survival'])\n",
    "        n_patients = data_stage[stage].shape[0]\n",
    "        prob_survival = 1\n",
    "        time_thresh = int(data[time].max().round())\n",
    "        #loop through each time point in time_thresh\n",
    "        for t in range(0, time_thresh + 1):\n",
    "            #round time column to integer\n",
    "            n_patients = n_patients - data_stage[stage][(data_stage[stage][time] == t) & (data_stage[stage][outcome] == 0)].shape[0]\n",
    "            n_died = data_stage[stage][(data_stage[stage][time] == t) & (data_stage[stage][outcome] == 1)].shape[0]\n",
    "            prob_survival = prob_survival * (1 - n_died/n_patients)\n",
    "            perc_died = n_died/n_patients\n",
    "            km_stage[stage] = pd.concat([km_stage[stage], pd.DataFrame([[t, n_patients, n_died, prob_survival]], columns=['time', 'n_patients', 'n_died', 'prob_survival'])], axis=0)\n",
    "            n_patients = n_patients - n_died\n",
    "    # cmap = sns.color_palette('mako', n_colors=len(stages))\n",
    "    # colors = {}\n",
    "    # for i, stage in enumerate(stages):\n",
    "    #     colors[stage] = cmap[i]\n",
    "    # plt.figure(figsize=(10,10))\n",
    "    # for stage in km_stage.keys():\n",
    "    #     plt.plot(km_stage[stage]['time'], km_stage[stage]['prob_survival'], label=stage, color=colors[stage], linewidth=3, alpha=0.8)\n",
    "    # plt.xlabel('Time (days)')\n",
    "    # plt.ylabel('Probability of survival')\n",
    "    # plt.legend()\n",
    "    # plt.rcParams.update({'font.size': 20})\n",
    "    # plt.show()\n",
    "    return km_stage"
   ]
  },
  {
   "cell_type": "code",
   "execution_count": 80,
   "metadata": {},
   "outputs": [
    {
     "data": {
      "text/html": [
       "<div>\n",
       "<style scoped>\n",
       "    .dataframe tbody tr th:only-of-type {\n",
       "        vertical-align: middle;\n",
       "    }\n",
       "\n",
       "    .dataframe tbody tr th {\n",
       "        vertical-align: top;\n",
       "    }\n",
       "\n",
       "    .dataframe thead th {\n",
       "        text-align: right;\n",
       "    }\n",
       "</style>\n",
       "<table border=\"1\" class=\"dataframe\">\n",
       "  <thead>\n",
       "    <tr style=\"text-align: right;\">\n",
       "      <th></th>\n",
       "      <th>time</th>\n",
       "      <th>n_patients</th>\n",
       "      <th>n_died</th>\n",
       "      <th>prob_survival</th>\n",
       "    </tr>\n",
       "  </thead>\n",
       "  <tbody>\n",
       "    <tr>\n",
       "      <th>0</th>\n",
       "      <td>0</td>\n",
       "      <td>323</td>\n",
       "      <td>0</td>\n",
       "      <td>1.0</td>\n",
       "    </tr>\n",
       "    <tr>\n",
       "      <th>0</th>\n",
       "      <td>1</td>\n",
       "      <td>323</td>\n",
       "      <td>0</td>\n",
       "      <td>1.0</td>\n",
       "    </tr>\n",
       "    <tr>\n",
       "      <th>0</th>\n",
       "      <td>2</td>\n",
       "      <td>323</td>\n",
       "      <td>0</td>\n",
       "      <td>1.0</td>\n",
       "    </tr>\n",
       "    <tr>\n",
       "      <th>0</th>\n",
       "      <td>3</td>\n",
       "      <td>323</td>\n",
       "      <td>0</td>\n",
       "      <td>1.0</td>\n",
       "    </tr>\n",
       "    <tr>\n",
       "      <th>0</th>\n",
       "      <td>4</td>\n",
       "      <td>323</td>\n",
       "      <td>0</td>\n",
       "      <td>1.0</td>\n",
       "    </tr>\n",
       "  </tbody>\n",
       "</table>\n",
       "</div>"
      ],
      "text/plain": [
       "  time n_patients n_died  prob_survival\n",
       "0    0        323      0            1.0\n",
       "0    1        323      0            1.0\n",
       "0    2        323      0            1.0\n",
       "0    3        323      0            1.0\n",
       "0    4        323      0            1.0"
      ]
     },
     "execution_count": 80,
     "metadata": {},
     "output_type": "execute_result"
    }
   ],
   "source": [
    "km_stage = plot_km(fx, 'pred_quartile', 'id_tt_os_g_mos', 'OS')\n",
    "km_stage[0].head()"
   ]
  },
  {
   "cell_type": "code",
   "execution_count": 83,
   "metadata": {},
   "outputs": [
    {
     "data": {
      "text/html": [
       "<div>\n",
       "<style scoped>\n",
       "    .dataframe tbody tr th:only-of-type {\n",
       "        vertical-align: middle;\n",
       "    }\n",
       "\n",
       "    .dataframe tbody tr th {\n",
       "        vertical-align: top;\n",
       "    }\n",
       "\n",
       "    .dataframe thead th {\n",
       "        text-align: right;\n",
       "    }\n",
       "</style>\n",
       "<table border=\"1\" class=\"dataframe\">\n",
       "  <thead>\n",
       "    <tr style=\"text-align: right;\">\n",
       "      <th></th>\n",
       "      <th>time</th>\n",
       "      <th>n_patients</th>\n",
       "      <th>n_died</th>\n",
       "      <th>prob_survival</th>\n",
       "    </tr>\n",
       "  </thead>\n",
       "  <tbody>\n",
       "    <tr>\n",
       "      <th>0</th>\n",
       "      <td>0</td>\n",
       "      <td>322</td>\n",
       "      <td>0</td>\n",
       "      <td>1.0</td>\n",
       "    </tr>\n",
       "    <tr>\n",
       "      <th>0</th>\n",
       "      <td>1</td>\n",
       "      <td>322</td>\n",
       "      <td>0</td>\n",
       "      <td>1.0</td>\n",
       "    </tr>\n",
       "    <tr>\n",
       "      <th>0</th>\n",
       "      <td>2</td>\n",
       "      <td>322</td>\n",
       "      <td>0</td>\n",
       "      <td>1.0</td>\n",
       "    </tr>\n",
       "    <tr>\n",
       "      <th>0</th>\n",
       "      <td>3</td>\n",
       "      <td>322</td>\n",
       "      <td>0</td>\n",
       "      <td>1.0</td>\n",
       "    </tr>\n",
       "    <tr>\n",
       "      <th>0</th>\n",
       "      <td>4</td>\n",
       "      <td>322</td>\n",
       "      <td>0</td>\n",
       "      <td>1.0</td>\n",
       "    </tr>\n",
       "  </tbody>\n",
       "</table>\n",
       "</div>"
      ],
      "text/plain": [
       "  time n_patients n_died  prob_survival\n",
       "0    0        322      0            1.0\n",
       "0    1        322      0            1.0\n",
       "0    2        322      0            1.0\n",
       "0    3        322      0            1.0\n",
       "0    4        322      0            1.0"
      ]
     },
     "execution_count": 83,
     "metadata": {},
     "output_type": "execute_result"
    }
   ],
   "source": [
    "km_stage[1].head()"
   ]
  },
  {
   "cell_type": "code",
   "execution_count": 84,
   "metadata": {},
   "outputs": [
    {
     "data": {
      "text/html": [
       "<div>\n",
       "<style scoped>\n",
       "    .dataframe tbody tr th:only-of-type {\n",
       "        vertical-align: middle;\n",
       "    }\n",
       "\n",
       "    .dataframe tbody tr th {\n",
       "        vertical-align: top;\n",
       "    }\n",
       "\n",
       "    .dataframe thead th {\n",
       "        text-align: right;\n",
       "    }\n",
       "</style>\n",
       "<table border=\"1\" class=\"dataframe\">\n",
       "  <thead>\n",
       "    <tr style=\"text-align: right;\">\n",
       "      <th></th>\n",
       "      <th>time</th>\n",
       "      <th>n_patients</th>\n",
       "      <th>n_died</th>\n",
       "      <th>prob_survival</th>\n",
       "    </tr>\n",
       "  </thead>\n",
       "  <tbody>\n",
       "    <tr>\n",
       "      <th>0</th>\n",
       "      <td>0</td>\n",
       "      <td>322</td>\n",
       "      <td>0</td>\n",
       "      <td>1.0</td>\n",
       "    </tr>\n",
       "    <tr>\n",
       "      <th>0</th>\n",
       "      <td>1</td>\n",
       "      <td>322</td>\n",
       "      <td>0</td>\n",
       "      <td>1.0</td>\n",
       "    </tr>\n",
       "    <tr>\n",
       "      <th>0</th>\n",
       "      <td>2</td>\n",
       "      <td>322</td>\n",
       "      <td>0</td>\n",
       "      <td>1.0</td>\n",
       "    </tr>\n",
       "    <tr>\n",
       "      <th>0</th>\n",
       "      <td>3</td>\n",
       "      <td>322</td>\n",
       "      <td>0</td>\n",
       "      <td>1.0</td>\n",
       "    </tr>\n",
       "    <tr>\n",
       "      <th>0</th>\n",
       "      <td>4</td>\n",
       "      <td>322</td>\n",
       "      <td>0</td>\n",
       "      <td>1.0</td>\n",
       "    </tr>\n",
       "  </tbody>\n",
       "</table>\n",
       "</div>"
      ],
      "text/plain": [
       "  time n_patients n_died  prob_survival\n",
       "0    0        322      0            1.0\n",
       "0    1        322      0            1.0\n",
       "0    2        322      0            1.0\n",
       "0    3        322      0            1.0\n",
       "0    4        322      0            1.0"
      ]
     },
     "execution_count": 84,
     "metadata": {},
     "output_type": "execute_result"
    }
   ],
   "source": [
    "km_stage[2].head()"
   ]
  },
  {
   "cell_type": "code",
   "execution_count": null,
   "metadata": {},
   "outputs": [],
   "source": [
    "plt.plot(km_stage[stage]['time'], km_stage[stage]['prob_survival'], label=stage, color=colors[stage], linewidth=3, alpha=0.8)"
   ]
  },
  {
   "cell_type": "code",
   "execution_count": 82,
   "metadata": {},
   "outputs": [
    {
     "name": "stdout",
     "output_type": "stream",
     "text": [
      "0\n",
      "3\n",
      "1\n",
      "2\n"
     ]
    },
    {
     "data": {
      "image/png": "[encoded data removed]",
      "text/plain": [
       "<Figure size 1000x1000 with 1 Axes>"
      ]
     },
     "metadata": {},
     "output_type": "display_data"
    }
   ],
   "source": [
    "stages = fx['pred_quartile'].unique()\n",
    "cmap = sns.color_palette('mako', n_colors=len(stages))\n",
    "colors = {}\n",
    "for i, stage in enumerate(stages):\n",
    "    colors[stage] = cmap[i]\n",
    "plt.figure(figsize=(10,10))\n",
    "for stage in km_stage.keys():\n",
    "    print(stage)\n",
    "    plt.plot(km_stage[stage]['time'], km_stage[stage]['prob_survival'], label=stage, color=colors[stage], linewidth=3, alpha=0.8)\n",
    "plt.xlabel('Time (days)')\n",
    "plt.ylabel('Probability of survival')\n",
    "plt.legend()\n",
    "plt.rcParams.update({'font.size': 20})\n",
    "plt.show()"
   ]
  },
  {
   "cell_type": "code",
   "execution_count": 75,
   "metadata": {},
   "outputs": [
    {
     "ename": "TypeError",
     "evalue": "object of type 'NoneType' has no len()",
     "output_type": "error",
     "traceback": [
      "\u001b[0;31m---------------------------------------------------------------------------\u001b[0m",
      "\u001b[0;31mTypeError\u001b[0m                                 Traceback (most recent call last)",
      "Cell \u001b[0;32mIn[75], line 1\u001b[0m\n\u001b[0;32m----> 1\u001b[0m \u001b[39mlen\u001b[39;49m(km_stage)\n",
      "\u001b[0;31mTypeError\u001b[0m: object of type 'NoneType' has no len()"
     ]
    }
   ],
   "source": [
    "len(km_stage)"
   ]
  },
  {
   "cell_type": "code",
   "execution_count": 56,
   "metadata": {},
   "outputs": [
    {
     "name": "stdout",
     "output_type": "stream",
     "text": [
      "172.236842105263\n",
      "161.776315789474\n",
      "187.631578947368\n",
      "150.065789473684\n"
     ]
    }
   ],
   "source": [
    "data = fx\n",
    "stratify_by = 'pred_quartile'\n",
    "time = 'id_tt_os_g_mos'\n",
    "data_stage = {}\n",
    "km_stage = {}\n",
    "stages = data[stratify_by].unique()\n",
    "for stage in stages:\n",
    "    data_stage[stage] = data[data[stratify_by] == stage]\n",
    "    print(data_stage[stage][time].max())\n",
    "\n"
   ]
  },
  {
   "cell_type": "code",
   "execution_count": null,
   "metadata": {},
   "outputs": [],
   "source": []
  },
  {
   "cell_type": "code",
   "execution_count": 55,
   "metadata": {},
   "outputs": [
    {
     "data": {
      "text/plain": [
       "array([0, 3, 1, 2])"
      ]
     },
     "execution_count": 55,
     "metadata": {},
     "output_type": "execute_result"
    }
   ],
   "source": [
    "fx['pred_quartile'].unique()"
   ]
  },
  {
   "cell_type": "code",
   "execution_count": 53,
   "metadata": {},
   "outputs": [
    {
     "data": {
      "text/plain": [
       "<function dict.values>"
      ]
     },
     "execution_count": 53,
     "metadata": {},
     "output_type": "execute_result"
    }
   ],
   "source": [
    "data_stage.values"
   ]
  },
  {
   "cell_type": "code",
   "execution_count": 52,
   "metadata": {},
   "outputs": [
    {
     "ename": "KeyError",
     "evalue": "'0'",
     "output_type": "error",
     "traceback": [
      "\u001b[0;31m---------------------------------------------------------------------------\u001b[0m",
      "\u001b[0;31mKeyError\u001b[0m                                  Traceback (most recent call last)",
      "Cell \u001b[0;32mIn[52], line 1\u001b[0m\n\u001b[0;32m----> 1\u001b[0m data_stage[\u001b[39m'\u001b[39;49m\u001b[39m0\u001b[39;49m\u001b[39m'\u001b[39;49m]\u001b[39m.\u001b[39mshape\n",
      "\u001b[0;31mKeyError\u001b[0m: '0'"
     ]
    }
   ],
   "source": [
    "data_stage['0'].shape"
   ]
  },
  {
   "cell_type": "code",
   "execution_count": 37,
   "metadata": {},
   "outputs": [
    {
     "data": {
      "text/plain": [
       "<Axes: >"
      ]
     },
     "execution_count": 37,
     "metadata": {},
     "output_type": "execute_result"
    },
    {
     "data": {
      "image/png": "[encoded data removed]",
      "text/plain": [
       "<Figure size 640x480 with 1 Axes>"
      ]
     },
     "metadata": {},
     "output_type": "display_data"
    }
   ],
   "source": [
    "fx['id_tt_os_g_mos'].round().hist()"
   ]
  },
  {
   "cell_type": "code",
   "execution_count": null,
   "metadata": {},
   "outputs": [],
   "source": []
  }
 ],
 "metadata": {
  "kernelspec": {
   "display_name": "tf",
   "language": "python",
   "name": "python3"
  },
  "language_info": {
   "codemirror_mode": {
    "name": "ipython",
    "version": 3
   },
   "file_extension": ".py",
   "mimetype": "text/x-python",
   "name": "python",
   "nbconvert_exporter": "python",
   "pygments_lexer": "ipython3",
   "version": "3.10.10"
  },
  "orig_nbformat": 4
 },
 "nbformat": 4,
 "nbformat_minor": 2
}
