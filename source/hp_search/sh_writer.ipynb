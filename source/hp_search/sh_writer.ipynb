{
 "cells": [
  {
   "cell_type": "code",
   "execution_count": 1,
   "metadata": {},
   "outputs": [],
   "source": [
    "drugs = ['folfox', 'folfiri']\n",
    "outcomes = ['OS']\n",
    "data_types = ['comb', 'mut', 'cna', 'clin']\n",
    "\n",
    "#write out the bash commands to a file called 'search_all.sh'\n",
    "with open('search_all.sh', 'w') as f:\n",
    "    for drug in drugs:\n",
    "        for outcome in outcomes:\n",
    "            for data_type in data_types:\n",
    "                \n",
    "\n",
    "                \n",
    "                # nn_command = 'sbatch -N 1 -n 1 -p volta-gpu --mem=48g -t 168:00:00 --qos gpu_access --gres=gpu:1 --mail-user=kevin.chen@unchealth.unc.edu --wrap=\"python3 search_nn_cv.py --drug {} --outcome {} --data_type {}\"'.format(drug, outcome, data_type)\n",
    "                f.write(rf_command + '\\n')\n",
    "                f.write(xgb_command + '\\n')\n",
    "                # f.write(nn_command + '\\n')"
   ]
  },
  {
   "cell_type": "code",
   "execution_count": null,
   "metadata": {},
   "outputs": [],
   "source": []
  }
 ],
 "metadata": {
  "kernelspec": {
   "display_name": "Python 3",
   "language": "python",
   "name": "python3"
  },
  "language_info": {
   "codemirror_mode": {
    "name": "ipython",
    "version": 3
   },
   "file_extension": ".py",
   "mimetype": "text/x-python",
   "name": "python",
   "nbconvert_exporter": "python",
   "pygments_lexer": "ipython3",
   "version": "3.10.6"
  },
  "orig_nbformat": 4
 },
 "nbformat": 4,
 "nbformat_minor": 2
}
