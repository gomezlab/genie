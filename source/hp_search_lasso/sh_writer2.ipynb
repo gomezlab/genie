{
 "cells": [
  {
   "cell_type": "code",
   "execution_count": 1,
   "metadata": {},
   "outputs": [],
   "source": [
    "drugs = ['folfox']\n",
    "outcomes = ['OS', 'PFS']\n",
    "data_types = ['comb', 'nonclin']\n",
    "lasso_cs = [2, 3, 5]\n",
    "\n",
    "#write out the bash commands to a file called 'search_all.sh'\n",
    "with open('search_all.sh', 'w') as f:\n",
    "    for drug in drugs:\n",
    "        for outcome in outcomes:\n",
    "            for data_type in data_types:\n",
    "                for lasso_c in lasso_cs:\n",
    "                    rf_command = 'sbatch -p general -N 1 -n 1 -c 16 --mem=12g -t 168:00:00 --mail-type=end --mail-user=kevin.chen@unchealth.unc.edu --wrap=\"python3 search_rf_cv.py --drug {} --outcome {} --data_type {} --lasso_c {}\"'.format(drug, outcome, data_type, lasso_c)\n",
    "                    xgb_command = 'sbatch -N 1 -n 1 -p gpu --mem=12g -t 168:00:00 --qos gpu_access --gres=gpu:1 --mail-user=kevin.chen@unchealth.unc.edu --wrap=\"python3 search_xgb_cv.py --drug {} --outcome {} --data_type {} --lasso_c {}\"'.format(drug, outcome, data_type, lasso_c)                                                                                                                                                                                                                            \n",
    "                    nn_command = 'sbatch -N 1 -n 1 -p volta-gpu --mem=48g -t 168:00:00 --qos gpu_access --gres=gpu:1 --mail-user=kevin.chen@unchealth.unc.edu --wrap=\"python3 search_nn_cv.py --drug {} --outcome {} --data_type {} --lasso_c {}\"'.format(drug, outcome, data_type, lasso_c)\n",
    "                    f.write(rf_command + '\\n')\n",
    "                    f.write(xgb_command + '\\n')\n",
    "                    f.write(nn_command + '\\n')"
   ]
  },
  {
   "cell_type": "code",
   "execution_count": null,
   "metadata": {},
   "outputs": [],
   "source": []
  }
 ],
 "metadata": {
  "kernelspec": {
   "display_name": "Python 3",
   "language": "python",
   "name": "python3"
  },
  "language_info": {
   "codemirror_mode": {
    "name": "ipython",
    "version": 3
   },
   "file_extension": ".py",
   "mimetype": "text/x-python",
   "name": "python",
   "nbconvert_exporter": "python",
   "pygments_lexer": "ipython3",
   "version": "3.6.8"
  }
 },
 "nbformat": 4,
 "nbformat_minor": 2
}
