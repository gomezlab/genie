{
 "cells": [
  {
   "cell_type": "code",
   "execution_count": 1,
   "metadata": {},
   "outputs": [],
   "source": [
    "import pandas as pd\n",
    "import numpy as np\n",
    "import os"
   ]
  },
  {
   "cell_type": "code",
   "execution_count": 1,
   "metadata": {},
   "outputs": [],
   "source": [
    "drugs = ['folfox']\n",
    "outcomes = ['OS', 'PFS']\n",
    "data_types = ['comb', 'clin', 'nonclin']\n",
    "lasso_cs = [0.1, 1, 2, 3, 5, 10]\n",
    "\n",
    "#write out the bash commands to a file called 'search_all.sh'\n",
    "with open('search_all.sh', 'w') as f:\n",
    "    for drug in drugs:\n",
    "        for outcome in outcomes:\n",
    "            for data_type in data_types:\n",
    "                for lasso_c in lasso_cs:\n",
    "                    rf_command = 'sbatch -p general -N 1 -n 1 -c 16 --mem=12g -t 168:00:00 --mail-type=end --mail-user=kevin.chen@unchealth.unc.edu --wrap=\"python3 search_rf_cv.py --drug {} --outcome {} --data_type {} --lasso_c {}\"'.format(drug, outcome, data_type, lasso_c)\n",
    "                    xgb_command = 'sbatch -N 1 -n 1 -p gpu --mem=12g -t 168:00:00 --qos gpu_access --gres=gpu:1 --mail-user=kevin.chen@unchealth.unc.edu --wrap=\"python3 search_xgb_cv.py --drug {} --outcome {} --data_type {} --lasso_c {}\"'.format(drug, outcome, data_type, lasso_c)                                                                                                                                                                                                                            \n",
    "                    nn_command = 'sbatch -N 1 -n 1 -p volta-gpu --mem=48g -t 168:00:00 --qos gpu_access --gres=gpu:1 --mail-user=kevin.chen@unchealth.unc.edu --wrap=\"python3 search_nn_cv.py --drug {} --outcome {} --data_type {} --lasso_c {}\"'.format(drug, outcome, data_type, lasso_c)\n",
    "                    f.write(rf_command + '\\n')\n",
    "                    f.write(xgb_command + '\\n')\n",
    "                    f.write(nn_command + '\\n')"
   ]
  },
  {
   "cell_type": "code",
   "execution_count": 1,
   "metadata": {},
   "outputs": [],
   "source": [
    "pretrains = ['crc', 'total']\n",
    "outcomes = ['OS', 'PFS']\n",
    "data_types = ['comb', 'act', 'mut']\n",
    "\n",
    "#write out the bash commands to a file called 'search_all.sh'\n",
    "with open('search_act.sh', 'w') as f:\n",
    "    for pretrain in pretrains:\n",
    "        for outcome in outcomes:\n",
    "            for data_type in data_types:\n",
    "                rf_command = 'sbatch -p general -N 1 -n 1 -c 16 --mem=12g -t 168:00:00 --mail-type=end --mail-user=kevin.chen@unchealth.unc.edu --wrap=\"python3 pdx/search_rf.py --pretrain {} --outcome {} --data_type {}\"'.format(pretrain, outcome, data_type)\n",
    "                xgb_command = 'sbatch -N 1 -n 1 -p gpu --mem=12g -t 168:00:00 --qos gpu_access --gres=gpu:1 --mail-user=kevin.chen@unchealth.unc.edu --wrap=\"python3 pdx/search_xgb.py --pretrain {} --outcome {} --data_type {}\"'.format(pretrain, outcome, data_type)                                                                                                                                                                                                                            \n",
    "                nn_command = 'sbatch -N 1 -n 1 -p gpu --mem=16g -t 168:00:00 --qos gpu_access --gres=gpu:1 --mail-user=kevin.chen@unchealth.unc.edu --wrap=\"python3 pdx/search_nn.py --pretrain {} --outcome {} --data_type {}\"'.format(pretrain, outcome, data_type)\n",
    "                f.write(rf_command + '\\n')\n",
    "                f.write(xgb_command + '\\n')\n",
    "                f.write(nn_command + '\\n')"
   ]
  },
  {
   "cell_type": "code",
   "execution_count": null,
   "metadata": {},
   "outputs": [],
   "source": [
    "drugs = ['folfox']\n",
    "outcomes = ['OS', 'PFS']\n",
    "data_types = ['comb', 'mut', 'cna', 'clin', 'fus']\n",
    "\n",
    "#write out the bash commands to a file called 'search_all.sh'\n",
    "with open('search_nn.sh', 'w') as f:\n",
    "    for drug in drugs:\n",
    "        for outcome in outcomes:\n",
    "            for data_type in data_types:\n",
    "                # rf_command = 'sbatch -p general -N 1 -n 1 -c 16 --mem=12g -t 168:00:00 --mail-type=end --mail-user=kevin.chen@unchealth.unc.edu --wrap=\"python3 search_rf_cv.py --drug {} --outcome {} --data_type {}\"'.format(drug, outcome, data_type)\n",
    "                # xgb_command = 'sbatch -N 1 -n 1 -p gpu --mem=12g -t 168:00:00 --qos gpu_access --gres=gpu:1 --mail-user=kevin.chen@unchealth.unc.edu --wrap=\"python3 search_xgb_cv.py --drug {} --outcome {} --data_type {}\"'.format(drug, outcome, data_type)                                                                                                                                                                                                                            \n",
    "                nn_command = 'sbatch -N 1 -n 1 -p volta-gpu --mem=48g -t 168:00:00 --qos gpu_access --gres=gpu:1 --mail-user=kevin.chen@unchealth.unc.edu --wrap=\"python3 search_nn_cv.py --drug {} --outcome {} --data_type {}\"'.format(drug, outcome, data_type)\n",
    "                # f.write(rf_command + '\\n')\n",
    "                # f.write(xgb_command + '\\n')\n",
    "                f.write(nn_command + '\\n')"
   ]
  },
  {
   "cell_type": "code",
   "execution_count": null,
   "metadata": {},
   "outputs": [],
   "source": []
  }
 ],
 "metadata": {
  "kernelspec": {
   "display_name": "Python 3",
   "language": "python",
   "name": "python3"
  },
  "language_info": {
   "codemirror_mode": {
    "name": "ipython",
    "version": 3
   },
   "file_extension": ".py",
   "mimetype": "text/x-python",
   "name": "python",
   "nbconvert_exporter": "python",
   "pygments_lexer": "ipython3",
   "version": "3.6.8"
  },
  "orig_nbformat": 4
 },
 "nbformat": 4,
 "nbformat_minor": 2
}
